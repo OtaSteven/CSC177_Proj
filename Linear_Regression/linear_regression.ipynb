{
 "cells": [
  {
   "cell_type": "markdown",
   "metadata": {},
   "source": [
    "# Linear Regression Part (A)\n",
    "## Getting the Dataset"
   ]
  },
  {
   "cell_type": "markdown",
   "metadata": {},
   "source": [
    "### Useful functions"
   ]
  },
  {
   "cell_type": "code",
   "execution_count": 1377,
   "metadata": {},
   "outputs": [],
   "source": [
    "#Function to normalize columns\n",
    "def normalize_numeric_minmax(df, name):\n",
    "        df[name] = ((df[name] - df[name].min()) / (df[name].max() - df[name].min())).astype(np.float32)"
   ]
  },
  {
   "cell_type": "code",
   "execution_count": 1378,
   "metadata": {},
   "outputs": [],
   "source": [
    "# Convert a Pandas dataframe to the x,y inputs that TensorFlow needs\n",
    "import collections\n",
    "def to_xy(df, target):\n",
    "    result = []\n",
    "    for x in df.columns:\n",
    "        if x != target:\n",
    "            result.append(x)\n",
    "    # find out the type of the target column. \n",
    "    target_type = df[target].dtypes\n",
    "    target_type = target_type[0] if isinstance(target_type, collections.abc.Sequence) else target_type\n",
    "    # Encode to int for classification, float otherwise. TensorFlow likes 32 bits.\n",
    "    if target_type in (np.int64, np.int32):\n",
    "        # Classification\n",
    "        dummies = pd.get_dummies(df[target])\n",
    "        return df[result].values.astype(np.float32), dummies.values.astype(np.float32)\n",
    "    else:\n",
    "        # Regression\n",
    "        return df[result].values.astype(np.float32), df[target].values.astype(np.float32)"
   ]
  },
  {
   "cell_type": "code",
   "execution_count": 1379,
   "metadata": {},
   "outputs": [],
   "source": [
    "# Regression chart.\n",
    "def chart_regression(pred,y,sort=True):\n",
    "    t = pd.DataFrame({'pred' : pred, 'y' : y.flatten()})\n",
    "    if sort:\n",
    "        t.sort_values(by=['y'],inplace=True)\n",
    "    a = plt.plot(t['y'].tolist(),label='expected')\n",
    "    b = plt.plot(t['pred'].tolist(),label='prediction')\n",
    "    plt.ylabel('output')\n",
    "    plt.legend()\n",
    "    plt.show()"
   ]
  },
  {
   "cell_type": "code",
   "execution_count": 1380,
   "metadata": {},
   "outputs": [
    {
     "data": {
      "text/html": [
       "<div>\n",
       "<style scoped>\n",
       "    .dataframe tbody tr th:only-of-type {\n",
       "        vertical-align: middle;\n",
       "    }\n",
       "\n",
       "    .dataframe tbody tr th {\n",
       "        vertical-align: top;\n",
       "    }\n",
       "\n",
       "    .dataframe thead th {\n",
       "        text-align: right;\n",
       "    }\n",
       "</style>\n",
       "<table border=\"1\" class=\"dataframe\">\n",
       "  <thead>\n",
       "    <tr style=\"text-align: right;\">\n",
       "      <th></th>\n",
       "      <th>country</th>\n",
       "      <th>beer_servings</th>\n",
       "      <th>spirit_servings</th>\n",
       "      <th>wine_servings</th>\n",
       "      <th>total_litres_of_pure_alcohol</th>\n",
       "      <th>continent</th>\n",
       "    </tr>\n",
       "  </thead>\n",
       "  <tbody>\n",
       "    <tr>\n",
       "      <th>0</th>\n",
       "      <td>Afghanistan</td>\n",
       "      <td>0</td>\n",
       "      <td>0</td>\n",
       "      <td>0</td>\n",
       "      <td>0.0</td>\n",
       "      <td>Asia</td>\n",
       "    </tr>\n",
       "    <tr>\n",
       "      <th>1</th>\n",
       "      <td>Albania</td>\n",
       "      <td>89</td>\n",
       "      <td>132</td>\n",
       "      <td>54</td>\n",
       "      <td>4.9</td>\n",
       "      <td>Europe</td>\n",
       "    </tr>\n",
       "    <tr>\n",
       "      <th>2</th>\n",
       "      <td>Algeria</td>\n",
       "      <td>25</td>\n",
       "      <td>0</td>\n",
       "      <td>14</td>\n",
       "      <td>0.7</td>\n",
       "      <td>Africa</td>\n",
       "    </tr>\n",
       "    <tr>\n",
       "      <th>3</th>\n",
       "      <td>Andorra</td>\n",
       "      <td>245</td>\n",
       "      <td>138</td>\n",
       "      <td>312</td>\n",
       "      <td>12.4</td>\n",
       "      <td>Europe</td>\n",
       "    </tr>\n",
       "    <tr>\n",
       "      <th>4</th>\n",
       "      <td>Angola</td>\n",
       "      <td>217</td>\n",
       "      <td>57</td>\n",
       "      <td>45</td>\n",
       "      <td>5.9</td>\n",
       "      <td>Africa</td>\n",
       "    </tr>\n",
       "    <tr>\n",
       "      <th>5</th>\n",
       "      <td>Antigua &amp; Barbuda</td>\n",
       "      <td>102</td>\n",
       "      <td>128</td>\n",
       "      <td>45</td>\n",
       "      <td>4.9</td>\n",
       "      <td>North America</td>\n",
       "    </tr>\n",
       "    <tr>\n",
       "      <th>6</th>\n",
       "      <td>Argentina</td>\n",
       "      <td>193</td>\n",
       "      <td>25</td>\n",
       "      <td>221</td>\n",
       "      <td>8.3</td>\n",
       "      <td>South America</td>\n",
       "    </tr>\n",
       "    <tr>\n",
       "      <th>7</th>\n",
       "      <td>Armenia</td>\n",
       "      <td>21</td>\n",
       "      <td>179</td>\n",
       "      <td>11</td>\n",
       "      <td>3.8</td>\n",
       "      <td>Europe</td>\n",
       "    </tr>\n",
       "    <tr>\n",
       "      <th>8</th>\n",
       "      <td>Australia</td>\n",
       "      <td>261</td>\n",
       "      <td>72</td>\n",
       "      <td>212</td>\n",
       "      <td>10.4</td>\n",
       "      <td>Oceania</td>\n",
       "    </tr>\n",
       "    <tr>\n",
       "      <th>9</th>\n",
       "      <td>Austria</td>\n",
       "      <td>279</td>\n",
       "      <td>75</td>\n",
       "      <td>191</td>\n",
       "      <td>9.7</td>\n",
       "      <td>Europe</td>\n",
       "    </tr>\n",
       "  </tbody>\n",
       "</table>\n",
       "</div>"
      ],
      "text/plain": [
       "             country  beer_servings  spirit_servings  wine_servings  \\\n",
       "0        Afghanistan              0                0              0   \n",
       "1            Albania             89              132             54   \n",
       "2            Algeria             25                0             14   \n",
       "3            Andorra            245              138            312   \n",
       "4             Angola            217               57             45   \n",
       "5  Antigua & Barbuda            102              128             45   \n",
       "6          Argentina            193               25            221   \n",
       "7            Armenia             21              179             11   \n",
       "8          Australia            261               72            212   \n",
       "9            Austria            279               75            191   \n",
       "\n",
       "   total_litres_of_pure_alcohol      continent  \n",
       "0                           0.0           Asia  \n",
       "1                           4.9         Europe  \n",
       "2                           0.7         Africa  \n",
       "3                          12.4         Europe  \n",
       "4                           5.9         Africa  \n",
       "5                           4.9  North America  \n",
       "6                           8.3  South America  \n",
       "7                           3.8         Europe  \n",
       "8                          10.4        Oceania  \n",
       "9                           9.7         Europe  "
      ]
     },
     "execution_count": 1380,
     "metadata": {},
     "output_type": "execute_result"
    }
   ],
   "source": [
    "%matplotlib inline\n",
    "import os\n",
    "import numpy as np\n",
    "import pandas as pd\n",
    "from scipy.stats import zscore\n",
    "import matplotlib.pyplot as plt\n",
    "import matplotlib.image as mpimg\n",
    "\n",
    "path = \"./\"\n",
    "\n",
    "filename_read = os.path.join(path,\"drinks.csv\")\n",
    "drink_Data = pd.read_csv(filename_read, na_values=['NA','?'])\n",
    "drink_Data.head(10)"
   ]
  },
  {
   "cell_type": "markdown",
   "metadata": {},
   "source": [
    "## Simple Linear Regression"
   ]
  },
  {
   "cell_type": "markdown",
   "metadata": {},
   "source": [
    "Creating a new dataset for holding onto the columns needed for Simple Linear Regression. In the new dataset we made, it has a new column called 'Combine_Servings' that takes the total amount of beer, spirit, and wine serverings."
   ]
  },
  {
   "cell_type": "code",
   "execution_count": 1381,
   "metadata": {},
   "outputs": [
    {
     "name": "stderr",
     "output_type": "stream",
     "text": [
      "C:\\Users\\sho85\\AppData\\Local\\Temp\\ipykernel_51076\\3497493988.py:7: SettingWithCopyWarning: \n",
      "A value is trying to be set on a copy of a slice from a DataFrame.\n",
      "Try using .loc[row_indexer,col_indexer] = value instead\n",
      "\n",
      "See the caveats in the documentation: https://pandas.pydata.org/pandas-docs/stable/user_guide/indexing.html#returning-a-view-versus-a-copy\n",
      "  new_drink_Data['Combine_Servings'] = (new_drink_Data['beer_servings'] + new_drink_Data['spirit_servings'] + new_drink_Data['wine_servings'])\n"
     ]
    },
    {
     "data": {
      "text/html": [
       "<div>\n",
       "<style scoped>\n",
       "    .dataframe tbody tr th:only-of-type {\n",
       "        vertical-align: middle;\n",
       "    }\n",
       "\n",
       "    .dataframe tbody tr th {\n",
       "        vertical-align: top;\n",
       "    }\n",
       "\n",
       "    .dataframe thead th {\n",
       "        text-align: right;\n",
       "    }\n",
       "</style>\n",
       "<table border=\"1\" class=\"dataframe\">\n",
       "  <thead>\n",
       "    <tr style=\"text-align: right;\">\n",
       "      <th></th>\n",
       "      <th>beer_servings</th>\n",
       "      <th>spirit_servings</th>\n",
       "      <th>wine_servings</th>\n",
       "      <th>total_litres_of_pure_alcohol</th>\n",
       "      <th>Combine_Servings</th>\n",
       "    </tr>\n",
       "  </thead>\n",
       "  <tbody>\n",
       "    <tr>\n",
       "      <th>0</th>\n",
       "      <td>0</td>\n",
       "      <td>0</td>\n",
       "      <td>0</td>\n",
       "      <td>0.0</td>\n",
       "      <td>0</td>\n",
       "    </tr>\n",
       "    <tr>\n",
       "      <th>1</th>\n",
       "      <td>89</td>\n",
       "      <td>132</td>\n",
       "      <td>54</td>\n",
       "      <td>4.9</td>\n",
       "      <td>275</td>\n",
       "    </tr>\n",
       "    <tr>\n",
       "      <th>2</th>\n",
       "      <td>25</td>\n",
       "      <td>0</td>\n",
       "      <td>14</td>\n",
       "      <td>0.7</td>\n",
       "      <td>39</td>\n",
       "    </tr>\n",
       "    <tr>\n",
       "      <th>3</th>\n",
       "      <td>245</td>\n",
       "      <td>138</td>\n",
       "      <td>312</td>\n",
       "      <td>12.4</td>\n",
       "      <td>695</td>\n",
       "    </tr>\n",
       "    <tr>\n",
       "      <th>4</th>\n",
       "      <td>217</td>\n",
       "      <td>57</td>\n",
       "      <td>45</td>\n",
       "      <td>5.9</td>\n",
       "      <td>319</td>\n",
       "    </tr>\n",
       "  </tbody>\n",
       "</table>\n",
       "</div>"
      ],
      "text/plain": [
       "   beer_servings  spirit_servings  wine_servings  \\\n",
       "0              0                0              0   \n",
       "1             89              132             54   \n",
       "2             25                0             14   \n",
       "3            245              138            312   \n",
       "4            217               57             45   \n",
       "\n",
       "   total_litres_of_pure_alcohol  Combine_Servings  \n",
       "0                           0.0                 0  \n",
       "1                           4.9               275  \n",
       "2                           0.7                39  \n",
       "3                          12.4               695  \n",
       "4                           5.9               319  "
      ]
     },
     "execution_count": 1381,
     "metadata": {},
     "output_type": "execute_result"
    }
   ],
   "source": [
    "import pandas as pd\n",
    "\n",
    "drink_Data.head()\n",
    "\n",
    "new_drink_Data = drink_Data[['beer_servings', 'spirit_servings', 'wine_servings', 'total_litres_of_pure_alcohol']]\n",
    "\n",
    "new_drink_Data['Combine_Servings'] = (new_drink_Data['beer_servings'] + new_drink_Data['spirit_servings'] + new_drink_Data['wine_servings'])\n",
    "\n",
    "new_drink_Data.head()"
   ]
  },
  {
   "cell_type": "markdown",
   "metadata": {},
   "source": [
    "### Preparing our train/test\n",
    "Here, we create an x and y varaible that looks at the independent variable, Combine_Servings, and the dependent variable, Total_Litres_of_Pure_Alcohol. We then use the train_test_split method to split of our data into 2 different types, one for training and one for testing. We made the test size take 25% of the data and stored it to a random seed on 1."
   ]
  },
  {
   "cell_type": "code",
   "execution_count": 1382,
   "metadata": {},
   "outputs": [],
   "source": [
    "x = new_drink_Data.iloc[:, 4].values  #independent variable arrays, Combine_Servings\n",
    "y = new_drink_Data.iloc[:, 3].values  #dependent variable arrays, Total_Litres_Of_Pure_Alcohol"
   ]
  },
  {
   "cell_type": "code",
   "execution_count": 1383,
   "metadata": {},
   "outputs": [],
   "source": [
    "# Split\n",
    "from sklearn.model_selection import train_test_split\n",
    "x_train, x_test, y_train, y_test = train_test_split(x, y, test_size=1/4, random_state=1)"
   ]
  },
  {
   "cell_type": "markdown",
   "metadata": {},
   "source": [
    "The code snippet below is to reshape the training and testing of the independent variable into a 2-dimensional arrays for plotting purposes"
   ]
  },
  {
   "cell_type": "code",
   "execution_count": 1384,
   "metadata": {},
   "outputs": [
    {
     "data": {
      "text/plain": [
       "array([[274],\n",
       "       [571],\n",
       "       [385],\n",
       "       [275],\n",
       "       [  6],\n",
       "       [583],\n",
       "       [ 86],\n",
       "       [328],\n",
       "       [  6],\n",
       "       [643],\n",
       "       [404],\n",
       "       [ 51],\n",
       "       [ 55],\n",
       "       [111],\n",
       "       [123],\n",
       "       [219],\n",
       "       [106],\n",
       "       [ 28],\n",
       "       [553],\n",
       "       [  0],\n",
       "       [112],\n",
       "       [  0],\n",
       "       [  6],\n",
       "       [234],\n",
       "       [431],\n",
       "       [369],\n",
       "       [ 57],\n",
       "       [  0],\n",
       "       [ 49],\n",
       "       [ 57],\n",
       "       [665],\n",
       "       [ 56],\n",
       "       [279],\n",
       "       [605],\n",
       "       [488],\n",
       "       [  0],\n",
       "       [559],\n",
       "       [  0],\n",
       "       [  6],\n",
       "       [640],\n",
       "       [ 56],\n",
       "       [634],\n",
       "       [257],\n",
       "       [134],\n",
       "       [156],\n",
       "       [ 39],\n",
       "       [ 11],\n",
       "       [295],\n",
       "       [134],\n",
       "       [439],\n",
       "       [ 17],\n",
       "       [  0],\n",
       "       [233],\n",
       "       [123],\n",
       "       [638],\n",
       "       [325],\n",
       "       [380],\n",
       "       [ 82],\n",
       "       [529],\n",
       "       [  0],\n",
       "       [504],\n",
       "       [169],\n",
       "       [185],\n",
       "       [ 83],\n",
       "       [ 17],\n",
       "       [382],\n",
       "       [600],\n",
       "       [122],\n",
       "       [370],\n",
       "       [ 72],\n",
       "       [ 17],\n",
       "       [462],\n",
       "       [382],\n",
       "       [  5],\n",
       "       [364],\n",
       "       [ 17],\n",
       "       [ 86],\n",
       "       [ 88],\n",
       "       [ 45],\n",
       "       [395],\n",
       "       [406],\n",
       "       [369],\n",
       "       [545],\n",
       "       [ 94],\n",
       "       [  7],\n",
       "       [352],\n",
       "       [614],\n",
       "       [  0],\n",
       "       [540],\n",
       "       [301],\n",
       "       [557],\n",
       "       [247],\n",
       "       [ 74],\n",
       "       [311],\n",
       "       [ 12],\n",
       "       [239],\n",
       "       [ 39],\n",
       "       [372],\n",
       "       [235],\n",
       "       [ 34],\n",
       "       [695],\n",
       "       [313],\n",
       "       [ 62],\n",
       "       [  5],\n",
       "       [ 84],\n",
       "       [491],\n",
       "       [123],\n",
       "       [457],\n",
       "       [ 70],\n",
       "       [358],\n",
       "       [545],\n",
       "       [493],\n",
       "       [  0],\n",
       "       [275],\n",
       "       [477],\n",
       "       [243],\n",
       "       [648],\n",
       "       [  9],\n",
       "       [211],\n",
       "       [114],\n",
       "       [646],\n",
       "       [ 28],\n",
       "       [173],\n",
       "       [665],\n",
       "       [364],\n",
       "       [ 45],\n",
       "       [ 68],\n",
       "       [597],\n",
       "       [353],\n",
       "       [147],\n",
       "       [ 20],\n",
       "       [216],\n",
       "       [ 56],\n",
       "       [577],\n",
       "       [258],\n",
       "       [ 80],\n",
       "       [392],\n",
       "       [557],\n",
       "       [  0],\n",
       "       [344],\n",
       "       [ 50],\n",
       "       [396],\n",
       "       [586],\n",
       "       [238]], dtype=int64)"
      ]
     },
     "execution_count": 1384,
     "metadata": {},
     "output_type": "execute_result"
    }
   ],
   "source": [
    "# Making the training and testing 2 Dimensional arrays\n",
    "x_train = np.array(x_train).reshape(-1, 1)\n",
    "x_train"
   ]
  },
  {
   "cell_type": "code",
   "execution_count": 1385,
   "metadata": {},
   "outputs": [
    {
     "data": {
      "text/plain": [
       "array([[459],\n",
       "       [124],\n",
       "       [ 21],\n",
       "       [426],\n",
       "       [ 43],\n",
       "       [349],\n",
       "       [197],\n",
       "       [596],\n",
       "       [130],\n",
       "       [ 54],\n",
       "       [ 62],\n",
       "       [ 39],\n",
       "       [216],\n",
       "       [591],\n",
       "       [147],\n",
       "       [463],\n",
       "       [ 45],\n",
       "       [349],\n",
       "       [152],\n",
       "       [ 80],\n",
       "       [ 36],\n",
       "       [319],\n",
       "       [  0],\n",
       "       [436],\n",
       "       [ 18],\n",
       "       [  0],\n",
       "       [ 30],\n",
       "       [141],\n",
       "       [ 11],\n",
       "       [407],\n",
       "       [ 44],\n",
       "       [ 11],\n",
       "       [ 23],\n",
       "       [188],\n",
       "       [ 50],\n",
       "       [352],\n",
       "       [328],\n",
       "       [ 23],\n",
       "       [398],\n",
       "       [  0],\n",
       "       [273],\n",
       "       [360],\n",
       "       [165],\n",
       "       [541],\n",
       "       [ 20],\n",
       "       [  6],\n",
       "       [120],\n",
       "       [113],\n",
       "       [565]], dtype=int64)"
      ]
     },
     "execution_count": 1385,
     "metadata": {},
     "output_type": "execute_result"
    }
   ],
   "source": [
    "x_test = np.array(x_test).reshape(-1, 1)\n",
    "x_test"
   ]
  },
  {
   "cell_type": "markdown",
   "metadata": {},
   "source": [
    "### Fitting\n",
    "Here, we fit the training variables and display the intercept and slope of the line once fitted."
   ]
  },
  {
   "cell_type": "code",
   "execution_count": 1386,
   "metadata": {},
   "outputs": [
    {
     "data": {
      "text/html": [
       "<style>#sk-container-id-97 {color: black;}#sk-container-id-97 pre{padding: 0;}#sk-container-id-97 div.sk-toggleable {background-color: white;}#sk-container-id-97 label.sk-toggleable__label {cursor: pointer;display: block;width: 100%;margin-bottom: 0;padding: 0.3em;box-sizing: border-box;text-align: center;}#sk-container-id-97 label.sk-toggleable__label-arrow:before {content: \"▸\";float: left;margin-right: 0.25em;color: #696969;}#sk-container-id-97 label.sk-toggleable__label-arrow:hover:before {color: black;}#sk-container-id-97 div.sk-estimator:hover label.sk-toggleable__label-arrow:before {color: black;}#sk-container-id-97 div.sk-toggleable__content {max-height: 0;max-width: 0;overflow: hidden;text-align: left;background-color: #f0f8ff;}#sk-container-id-97 div.sk-toggleable__content pre {margin: 0.2em;color: black;border-radius: 0.25em;background-color: #f0f8ff;}#sk-container-id-97 input.sk-toggleable__control:checked~div.sk-toggleable__content {max-height: 200px;max-width: 100%;overflow: auto;}#sk-container-id-97 input.sk-toggleable__control:checked~label.sk-toggleable__label-arrow:before {content: \"▾\";}#sk-container-id-97 div.sk-estimator input.sk-toggleable__control:checked~label.sk-toggleable__label {background-color: #d4ebff;}#sk-container-id-97 div.sk-label input.sk-toggleable__control:checked~label.sk-toggleable__label {background-color: #d4ebff;}#sk-container-id-97 input.sk-hidden--visually {border: 0;clip: rect(1px 1px 1px 1px);clip: rect(1px, 1px, 1px, 1px);height: 1px;margin: -1px;overflow: hidden;padding: 0;position: absolute;width: 1px;}#sk-container-id-97 div.sk-estimator {font-family: monospace;background-color: #f0f8ff;border: 1px dotted black;border-radius: 0.25em;box-sizing: border-box;margin-bottom: 0.5em;}#sk-container-id-97 div.sk-estimator:hover {background-color: #d4ebff;}#sk-container-id-97 div.sk-parallel-item::after {content: \"\";width: 100%;border-bottom: 1px solid gray;flex-grow: 1;}#sk-container-id-97 div.sk-label:hover label.sk-toggleable__label {background-color: #d4ebff;}#sk-container-id-97 div.sk-serial::before {content: \"\";position: absolute;border-left: 1px solid gray;box-sizing: border-box;top: 0;bottom: 0;left: 50%;z-index: 0;}#sk-container-id-97 div.sk-serial {display: flex;flex-direction: column;align-items: center;background-color: white;padding-right: 0.2em;padding-left: 0.2em;position: relative;}#sk-container-id-97 div.sk-item {position: relative;z-index: 1;}#sk-container-id-97 div.sk-parallel {display: flex;align-items: stretch;justify-content: center;background-color: white;position: relative;}#sk-container-id-97 div.sk-item::before, #sk-container-id-97 div.sk-parallel-item::before {content: \"\";position: absolute;border-left: 1px solid gray;box-sizing: border-box;top: 0;bottom: 0;left: 50%;z-index: -1;}#sk-container-id-97 div.sk-parallel-item {display: flex;flex-direction: column;z-index: 1;position: relative;background-color: white;}#sk-container-id-97 div.sk-parallel-item:first-child::after {align-self: flex-end;width: 50%;}#sk-container-id-97 div.sk-parallel-item:last-child::after {align-self: flex-start;width: 50%;}#sk-container-id-97 div.sk-parallel-item:only-child::after {width: 0;}#sk-container-id-97 div.sk-dashed-wrapped {border: 1px dashed gray;margin: 0 0.4em 0.5em 0.4em;box-sizing: border-box;padding-bottom: 0.4em;background-color: white;}#sk-container-id-97 div.sk-label label {font-family: monospace;font-weight: bold;display: inline-block;line-height: 1.2em;}#sk-container-id-97 div.sk-label-container {text-align: center;}#sk-container-id-97 div.sk-container {/* jupyter's `normalize.less` sets `[hidden] { display: none; }` but bootstrap.min.css set `[hidden] { display: none !important; }` so we also need the `!important` here to be able to override the default hidden behavior on the sphinx rendered scikit-learn.org. See: https://github.com/scikit-learn/scikit-learn/issues/21755 */display: inline-block !important;position: relative;}#sk-container-id-97 div.sk-text-repr-fallback {display: none;}</style><div id=\"sk-container-id-97\" class=\"sk-top-container\"><div class=\"sk-text-repr-fallback\"><pre>LinearRegression()</pre><b>In a Jupyter environment, please rerun this cell to show the HTML representation or trust the notebook. <br />On GitHub, the HTML representation is unable to render, please try loading this page with nbviewer.org.</b></div><div class=\"sk-container\" hidden><div class=\"sk-item\"><div class=\"sk-estimator sk-toggleable\"><input class=\"sk-toggleable__control sk-hidden--visually\" id=\"sk-estimator-id-97\" type=\"checkbox\" checked><label for=\"sk-estimator-id-97\" class=\"sk-toggleable__label sk-toggleable__label-arrow\">LinearRegression</label><div class=\"sk-toggleable__content\"><pre>LinearRegression()</pre></div></div></div></div></div>"
      ],
      "text/plain": [
       "LinearRegression()"
      ]
     },
     "execution_count": 1386,
     "metadata": {},
     "output_type": "execute_result"
    }
   ],
   "source": [
    "# Fitting\n",
    "from sklearn import linear_model\n",
    "from sklearn.metrics import mean_squared_error, r2_score\n",
    "regressor = linear_model.LinearRegression()\n",
    "regressor.fit(x_train, y_train)"
   ]
  },
  {
   "cell_type": "code",
   "execution_count": 1387,
   "metadata": {},
   "outputs": [
    {
     "data": {
      "text/plain": [
       "0.6980800923002739"
      ]
     },
     "execution_count": 1387,
     "metadata": {},
     "output_type": "execute_result"
    }
   ],
   "source": [
    "regressor.score(x_test, y_test)"
   ]
  },
  {
   "cell_type": "code",
   "execution_count": 1388,
   "metadata": {},
   "outputs": [
    {
     "data": {
      "text/plain": [
       "0.9140145685882098"
      ]
     },
     "execution_count": 1388,
     "metadata": {},
     "output_type": "execute_result"
    }
   ],
   "source": [
    "regressor.score(x_train, y_train)"
   ]
  },
  {
   "cell_type": "code",
   "execution_count": 1389,
   "metadata": {},
   "outputs": [
    {
     "data": {
      "text/plain": [
       "0.5227534772978712"
      ]
     },
     "execution_count": 1389,
     "metadata": {},
     "output_type": "execute_result"
    }
   ],
   "source": [
    "intercept = regressor.intercept_\n",
    "intercept"
   ]
  },
  {
   "cell_type": "code",
   "execution_count": 1390,
   "metadata": {},
   "outputs": [
    {
     "data": {
      "text/plain": [
       "array([0.01733409])"
      ]
     },
     "execution_count": 1390,
     "metadata": {},
     "output_type": "execute_result"
    }
   ],
   "source": [
    "slope = regressor.coef_\n",
    "slope"
   ]
  },
  {
   "cell_type": "markdown",
   "metadata": {},
   "source": [
    "### Predicting\n",
    "In this section, we use the predict method to predict the outcome of x_train and x_test and store it into a variable used for plotting to see how close our model is to the actual data"
   ]
  },
  {
   "cell_type": "code",
   "execution_count": 1391,
   "metadata": {},
   "outputs": [
    {
     "data": {
      "text/plain": [
       "array([ 5.27229528, 10.42052124,  7.19637973,  5.28962937,  0.62675804,\n",
       "       10.62853037,  2.01348557,  6.20833636,  0.62675804, 11.66857602,\n",
       "        7.52572752,  1.40679228,  1.47612866,  2.44683793,  2.65484706,\n",
       "        4.3189201 ,  2.36016746,  1.00810811, 10.10850755,  0.52275348,\n",
       "        2.46417202,  0.52275348,  0.62675804,  4.57893151,  7.99374806,\n",
       "        6.91903422,  1.51079684,  0.52275348,  1.37212409,  1.51079684,\n",
       "       12.04992609,  1.49346275,  5.35896575, 11.00988044,  8.98179143,\n",
       "        0.52275348, 10.21251211,  0.52275348,  0.62675804, 11.61657374,\n",
       "        1.49346275, 11.51256917,  4.97761568,  2.84552209,  3.22687217,\n",
       "        1.19878315,  0.71342851,  5.63631125,  2.84552209,  8.13242081,\n",
       "        0.81743308,  0.52275348,  4.56159742,  2.65484706, 11.58190555,\n",
       "        6.15633408,  7.10970926,  1.9441492 ,  9.69248929,  0.52275348,\n",
       "        9.25913693,  3.45221539,  3.7295609 ,  1.96148329,  0.81743308,\n",
       "        7.14437745, 10.92320997,  2.63751296,  6.93636832,  1.77080826,\n",
       "        0.81743308,  8.53110498,  7.14437745,  0.60942395,  6.83236375,\n",
       "        0.81743308,  2.01348557,  2.04815376,  1.30278771,  7.36972067,\n",
       "        7.56039571,  6.91903422,  9.96983479,  2.15215833,  0.64409214,\n",
       "        6.62435462, 11.16588729,  0.52275348,  9.88316432,  5.74031582,\n",
       "       10.17784392,  4.80427473,  1.80547645,  5.91365676,  0.73076261,\n",
       "        4.66560198,  1.19878315,  6.9710365 ,  4.5962656 ,  1.11211268,\n",
       "       12.56994892,  5.94832495,  1.59746732,  0.60942395,  1.97881739,\n",
       "        9.03379371,  2.65484706,  8.44443451,  1.73614007,  6.72835919,\n",
       "        9.96983479,  9.0684619 ,  0.52275348,  5.28962937,  8.79111639,\n",
       "        4.73493836, 11.75524649,  0.67876032,  4.18024734,  2.49884021,\n",
       "       11.7205783 ,  1.00810811,  3.52155177, 12.04992609,  6.83236375,\n",
       "        1.30278771,  1.70147188, 10.87120769,  6.64168872,  3.07086532,\n",
       "        0.86943536,  4.26691782,  1.49346275, 10.52452581,  4.99494977,\n",
       "        1.90948101,  7.31771839, 10.17784392,  0.52275348,  6.48568187,\n",
       "        1.38945819,  7.38705476, 10.68053265,  4.64826789])"
      ]
     },
     "execution_count": 1391,
     "metadata": {},
     "output_type": "execute_result"
    }
   ],
   "source": [
    "# Predicting; y_pred are the predicted results of the Combine_Servings\n",
    "y_pred_train = regressor.predict(x_train)\n",
    "y_pred_train"
   ]
  },
  {
   "cell_type": "markdown",
   "metadata": {},
   "source": [
    "Plotting the training data first and including the predicted train set on y (red line)"
   ]
  },
  {
   "cell_type": "code",
   "execution_count": 1392,
   "metadata": {},
   "outputs": [
    {
     "data": {
      "image/png": "[encoded data removed]",
      "text/plain": [
       "<Figure size 640x480 with 1 Axes>"
      ]
     },
     "metadata": {},
     "output_type": "display_data"
    }
   ],
   "source": [
    "import matplotlib.pyplot as plt\n",
    "plt.scatter(x_train, y_train) # plotting the observation line\n",
    "plt.plot(x_train, y_pred_train, color='red') # plotting the observation line but using the predicted dependent variable\n",
    "\n",
    "plt.title(\"Combine_Servings vs Total_Litres_of_Pure_Alcohol along with predicted model using Train\") # stating the title of the graph\n",
    " \n",
    "plt.xlabel(\"Combine_Servings\") # adding the name of x-axis\n",
    "plt.ylabel(\"Total_Litres_Of_Pure_Alcohol\") # adding the name of y-axis\n",
    "plt.show() # specifies end of graph"
   ]
  },
  {
   "cell_type": "markdown",
   "metadata": {},
   "source": [
    "Predicting using the testing dataset now"
   ]
  },
  {
   "cell_type": "code",
   "execution_count": 1393,
   "metadata": {},
   "outputs": [
    {
     "data": {
      "text/plain": [
       "0.7160877321531964"
      ]
     },
     "execution_count": 1393,
     "metadata": {},
     "output_type": "execute_result"
    }
   ],
   "source": [
    "from sklearn import linear_model\n",
    "lasso_reg = linear_model.Lasso(alpha=50, max_iter=100, tol=0.1)\n",
    "\n",
    "lasso_reg.fit(x_test, y_test)\n",
    "\n",
    "lasso_reg.score(x_test, y_test)"
   ]
  },
  {
   "cell_type": "code",
   "execution_count": 1394,
   "metadata": {},
   "outputs": [
    {
     "data": {
      "text/plain": [
       "0.9104229115882162"
      ]
     },
     "execution_count": 1394,
     "metadata": {},
     "output_type": "execute_result"
    }
   ],
   "source": [
    "lasso_reg.fit(x_train, y_train)\n",
    "\n",
    "lasso_reg.score(x_train, y_train)"
   ]
  },
  {
   "cell_type": "code",
   "execution_count": 1395,
   "metadata": {},
   "outputs": [
    {
     "data": {
      "text/plain": [
       "array([ 8.4791027 ,  2.67218115,  0.88676945,  7.90707759,  1.26811953,\n",
       "        6.57235234,  3.93757003, 10.8538736 ,  2.77618572,  1.45879456,\n",
       "        1.59746732,  1.19878315,  4.26691782, 10.76720313,  3.07086532,\n",
       "        8.54843907,  1.30278771,  6.57235234,  3.15753579,  1.90948101,\n",
       "        1.14678087,  6.05232951,  0.52275348,  8.08041853,  0.83476717,\n",
       "        0.52275348,  1.0427763 ,  2.96686075,  0.71342851,  7.5777298 ,\n",
       "        1.28545362,  0.71342851,  0.92143764,  3.78156318,  1.38945819,\n",
       "        6.62435462,  6.20833636,  0.92143764,  7.42172295,  0.52275348,\n",
       "        5.25496118,  6.76302737,  3.38287901,  9.90049842,  0.86943536,\n",
       "        0.62675804,  2.60284478,  2.48150612, 10.31651668])"
      ]
     },
     "execution_count": 1395,
     "metadata": {},
     "output_type": "execute_result"
    }
   ],
   "source": [
    "y_pred_test = regressor.predict(x_test)\n",
    "y_pred_test"
   ]
  },
  {
   "cell_type": "code",
   "execution_count": 1396,
   "metadata": {},
   "outputs": [
    {
     "data": {
      "text/plain": [
       "array([ 8.25308869,  2.81018009,  1.13668879,  7.71692157,  1.49413353,\n",
       "        6.46586497,  3.99624674, 10.47899459,  2.90766502,  1.6728559 ,\n",
       "        1.80283581,  1.42914358,  4.30494902, 10.39775715,  3.18387232,\n",
       "        8.31807864,  1.52662851,  6.46586497,  3.26510976,  2.0952906 ,\n",
       "        1.38040111,  5.97844032,  0.79549153,  7.87939646,  1.08794632,\n",
       "        0.79549153,  1.28291618,  3.08638739,  0.97421391,  7.40821929,\n",
       "        1.51038102,  0.97421391,  1.16918377,  3.85001934,  1.60786595,\n",
       "        6.51460744,  6.12466771,  1.16918377,  7.2619919 ,  0.79549153,\n",
       "        5.23105585,  6.64458734,  3.47632711,  9.58538273,  1.1204413 ,\n",
       "        0.89297646,  2.74519014,  2.63145772,  9.97532245])"
      ]
     },
     "execution_count": 1396,
     "metadata": {},
     "output_type": "execute_result"
    }
   ],
   "source": [
    "y_pred_lasso_test = lasso_reg.predict(x_test)\n",
    "y_pred_lasso_test"
   ]
  },
  {
   "cell_type": "markdown",
   "metadata": {},
   "source": [
    "Plotting the testing data and observing how closely it resembles our train data."
   ]
  },
  {
   "cell_type": "code",
   "execution_count": 1397,
   "metadata": {},
   "outputs": [
    {
     "data": {
      "image/png": "[encoded data removed]",
      "text/plain": [
       "<Figure size 640x480 with 1 Axes>"
      ]
     },
     "metadata": {},
     "output_type": "display_data"
    },
    {
     "data": {
      "image/png": "[encoded data removed]",
      "text/plain": [
       "<Figure size 640x480 with 1 Axes>"
      ]
     },
     "metadata": {},
     "output_type": "display_data"
    }
   ],
   "source": [
    "#plot for the TRAIN\n",
    "import matplotlib.pyplot as plt\n",
    "plt.scatter(x_test, y_test) # data scattered on the graph \n",
    "plt.plot(x_test, y_pred_test, color='red') # plotting the observation line\n",
    "\n",
    "plt.title(\"Combine_Servings vs Total_Litres_of_Pure_Alcohol along with predicted model using Testing\") # stating the title of the graph\n",
    " \n",
    "plt.xlabel(\"Combine_Servings\") # adding the name of x-axis\n",
    "plt.ylabel(\"Total_Litres_Of_Pure_Alcohol\") # adding the name of y-axis\n",
    "plt.show() # specifies end of graph\n",
    "\n",
    "plt.scatter(x_test, y_test) # data scattered on the graph \n",
    "plt.plot(x_test, y_pred_lasso_test, color='red') # plotting the observation line\n",
    "\n",
    "plt.title(\"Combine_Servings vs Total_Litres_of_Pure_Alcohol along with predicted model using Testing (lasso)\") # stating the title of the graph\n",
    " \n",
    "plt.xlabel(\"Combine_Servings\") # adding the name of x-axis\n",
    "plt.ylabel(\"Total_Litres_Of_Pure_Alcohol\") # adding the name of y-axis\n",
    "plt.show() # specifies end of graph"
   ]
  },
  {
   "cell_type": "markdown",
   "metadata": {},
   "source": [
    "### Finding the mean squarred error and the R-squared on both the testing and training models.\n",
    "Mean Squared Error: how much the residuals vary around the fitted lines <br>\n",
    "R-Squared: Correlation between x and y; ranges from 0 to 1; higher the number the better the model"
   ]
  },
  {
   "cell_type": "code",
   "execution_count": 1398,
   "metadata": {},
   "outputs": [
    {
     "name": "stdout",
     "output_type": "stream",
     "text": [
      "Root mean squared error on testing = 1.8266\n",
      "R-squared on testing= 0.6981\n",
      "Root mean squared error on training = 1.1405\n",
      "R-squared on training = 0.9140\n"
     ]
    }
   ],
   "source": [
    "# Model evaluation\n",
    "print(\"Root mean squared error on testing = %.4f\" % np.sqrt(mean_squared_error(y_test, y_pred_test)))\n",
    "print('R-squared on testing= %.4f' % r2_score(y_test, y_pred_test))\n",
    "\n",
    "print(\"Root mean squared error on training = %.4f\" % np.sqrt(mean_squared_error(y_train, y_pred_train)))\n",
    "print('R-squared on training = %.4f' % r2_score(y_train, y_pred_train))"
   ]
  },
  {
   "cell_type": "markdown",
   "metadata": {},
   "source": [
    "## Multiple Linear Regression\n",
    "Using the same dataset, drinks.csv, we used all three servings columns, beer, spirit, and wine, as independent variables and have the dependent variable be the Total_litres_of_Pure_Alcohol. We then split the data into training and testing varaibles, saving only 25% for testing."
   ]
  },
  {
   "cell_type": "code",
   "execution_count": 1399,
   "metadata": {},
   "outputs": [
    {
     "name": "stdout",
     "output_type": "stream",
     "text": [
      "x_train shape:  (144, 3)\n",
      "y_train shape:  (144,)\n",
      "x_test shape:  (49, 3)\n",
      "y_test shape:  (49,)\n"
     ]
    }
   ],
   "source": [
    "from sklearn.model_selection import train_test_split\n",
    "from sklearn import preprocessing\n",
    "\n",
    "path = \"./\"\n",
    "\n",
    "filename_read = os.path.join(path,\"drinks.csv\")\n",
    "drink_Data = pd.read_csv(filename_read, na_values=['NA','?'])\n",
    "\n",
    "x_train2, x_test2, y_train2, y_test2 = train_test_split(\n",
    "  drink_Data[['beer_servings', 'spirit_servings', 'wine_servings']], \n",
    "  drink_Data['total_litres_of_pure_alcohol'], \n",
    "  test_size=0.25,\n",
    "  random_state=0)\n",
    "print(\"x_train shape: \", x_train2.shape)\n",
    "print(\"y_train shape: \", y_train2.shape)\n",
    "\n",
    "print(\"x_test shape: \", x_test2.shape)\n",
    "print(\"y_test shape: \", y_test2.shape)"
   ]
  },
  {
   "cell_type": "markdown",
   "metadata": {},
   "source": [
    "### Fitting the training models\n",
    "Here, we fit the training model and display the y-intercept and slope"
   ]
  },
  {
   "cell_type": "code",
   "execution_count": 1400,
   "metadata": {},
   "outputs": [
    {
     "data": {
      "text/html": [
       "<style>#sk-container-id-98 {color: black;}#sk-container-id-98 pre{padding: 0;}#sk-container-id-98 div.sk-toggleable {background-color: white;}#sk-container-id-98 label.sk-toggleable__label {cursor: pointer;display: block;width: 100%;margin-bottom: 0;padding: 0.3em;box-sizing: border-box;text-align: center;}#sk-container-id-98 label.sk-toggleable__label-arrow:before {content: \"▸\";float: left;margin-right: 0.25em;color: #696969;}#sk-container-id-98 label.sk-toggleable__label-arrow:hover:before {color: black;}#sk-container-id-98 div.sk-estimator:hover label.sk-toggleable__label-arrow:before {color: black;}#sk-container-id-98 div.sk-toggleable__content {max-height: 0;max-width: 0;overflow: hidden;text-align: left;background-color: #f0f8ff;}#sk-container-id-98 div.sk-toggleable__content pre {margin: 0.2em;color: black;border-radius: 0.25em;background-color: #f0f8ff;}#sk-container-id-98 input.sk-toggleable__control:checked~div.sk-toggleable__content {max-height: 200px;max-width: 100%;overflow: auto;}#sk-container-id-98 input.sk-toggleable__control:checked~label.sk-toggleable__label-arrow:before {content: \"▾\";}#sk-container-id-98 div.sk-estimator input.sk-toggleable__control:checked~label.sk-toggleable__label {background-color: #d4ebff;}#sk-container-id-98 div.sk-label input.sk-toggleable__control:checked~label.sk-toggleable__label {background-color: #d4ebff;}#sk-container-id-98 input.sk-hidden--visually {border: 0;clip: rect(1px 1px 1px 1px);clip: rect(1px, 1px, 1px, 1px);height: 1px;margin: -1px;overflow: hidden;padding: 0;position: absolute;width: 1px;}#sk-container-id-98 div.sk-estimator {font-family: monospace;background-color: #f0f8ff;border: 1px dotted black;border-radius: 0.25em;box-sizing: border-box;margin-bottom: 0.5em;}#sk-container-id-98 div.sk-estimator:hover {background-color: #d4ebff;}#sk-container-id-98 div.sk-parallel-item::after {content: \"\";width: 100%;border-bottom: 1px solid gray;flex-grow: 1;}#sk-container-id-98 div.sk-label:hover label.sk-toggleable__label {background-color: #d4ebff;}#sk-container-id-98 div.sk-serial::before {content: \"\";position: absolute;border-left: 1px solid gray;box-sizing: border-box;top: 0;bottom: 0;left: 50%;z-index: 0;}#sk-container-id-98 div.sk-serial {display: flex;flex-direction: column;align-items: center;background-color: white;padding-right: 0.2em;padding-left: 0.2em;position: relative;}#sk-container-id-98 div.sk-item {position: relative;z-index: 1;}#sk-container-id-98 div.sk-parallel {display: flex;align-items: stretch;justify-content: center;background-color: white;position: relative;}#sk-container-id-98 div.sk-item::before, #sk-container-id-98 div.sk-parallel-item::before {content: \"\";position: absolute;border-left: 1px solid gray;box-sizing: border-box;top: 0;bottom: 0;left: 50%;z-index: -1;}#sk-container-id-98 div.sk-parallel-item {display: flex;flex-direction: column;z-index: 1;position: relative;background-color: white;}#sk-container-id-98 div.sk-parallel-item:first-child::after {align-self: flex-end;width: 50%;}#sk-container-id-98 div.sk-parallel-item:last-child::after {align-self: flex-start;width: 50%;}#sk-container-id-98 div.sk-parallel-item:only-child::after {width: 0;}#sk-container-id-98 div.sk-dashed-wrapped {border: 1px dashed gray;margin: 0 0.4em 0.5em 0.4em;box-sizing: border-box;padding-bottom: 0.4em;background-color: white;}#sk-container-id-98 div.sk-label label {font-family: monospace;font-weight: bold;display: inline-block;line-height: 1.2em;}#sk-container-id-98 div.sk-label-container {text-align: center;}#sk-container-id-98 div.sk-container {/* jupyter's `normalize.less` sets `[hidden] { display: none; }` but bootstrap.min.css set `[hidden] { display: none !important; }` so we also need the `!important` here to be able to override the default hidden behavior on the sphinx rendered scikit-learn.org. See: https://github.com/scikit-learn/scikit-learn/issues/21755 */display: inline-block !important;position: relative;}#sk-container-id-98 div.sk-text-repr-fallback {display: none;}</style><div id=\"sk-container-id-98\" class=\"sk-top-container\"><div class=\"sk-text-repr-fallback\"><pre>LinearRegression()</pre><b>In a Jupyter environment, please rerun this cell to show the HTML representation or trust the notebook. <br />On GitHub, the HTML representation is unable to render, please try loading this page with nbviewer.org.</b></div><div class=\"sk-container\" hidden><div class=\"sk-item\"><div class=\"sk-estimator sk-toggleable\"><input class=\"sk-toggleable__control sk-hidden--visually\" id=\"sk-estimator-id-98\" type=\"checkbox\" checked><label for=\"sk-estimator-id-98\" class=\"sk-toggleable__label sk-toggleable__label-arrow\">LinearRegression</label><div class=\"sk-toggleable__content\"><pre>LinearRegression()</pre></div></div></div></div></div>"
      ],
      "text/plain": [
       "LinearRegression()"
      ]
     },
     "execution_count": 1400,
     "metadata": {},
     "output_type": "execute_result"
    }
   ],
   "source": [
    "# Create linear regression object\n",
    "regr = linear_model.LinearRegression()\n",
    "\n",
    "# Fit regression model to the training set\n",
    "regr.fit(x_train2, y_train2)"
   ]
  },
  {
   "cell_type": "code",
   "execution_count": 1401,
   "metadata": {},
   "outputs": [
    {
     "data": {
      "text/plain": [
       "0.8184310767713026"
      ]
     },
     "execution_count": 1401,
     "metadata": {},
     "output_type": "execute_result"
    }
   ],
   "source": [
    "regr.score(x_test2, y_test2)"
   ]
  },
  {
   "cell_type": "code",
   "execution_count": 1402,
   "metadata": {},
   "outputs": [
    {
     "data": {
      "text/plain": [
       "0.8905004885512054"
      ]
     },
     "execution_count": 1402,
     "metadata": {},
     "output_type": "execute_result"
    }
   ],
   "source": [
    "regr.score(x_train2, y_train2)"
   ]
  },
  {
   "cell_type": "code",
   "execution_count": 1403,
   "metadata": {},
   "outputs": [
    {
     "data": {
      "text/plain": [
       "0.6137880966226286"
      ]
     },
     "execution_count": 1403,
     "metadata": {},
     "output_type": "execute_result"
    }
   ],
   "source": [
    "intercept = regr.intercept_\n",
    "intercept"
   ]
  },
  {
   "cell_type": "code",
   "execution_count": 1404,
   "metadata": {},
   "outputs": [
    {
     "data": {
      "text/plain": [
       "array([0.01803339, 0.0163801 , 0.01632606])"
      ]
     },
     "execution_count": 1404,
     "metadata": {},
     "output_type": "execute_result"
    }
   ],
   "source": [
    "slope = regr.coef_\n",
    "slope"
   ]
  },
  {
   "cell_type": "markdown",
   "metadata": {},
   "source": [
    "Predicting the training data first"
   ]
  },
  {
   "cell_type": "code",
   "execution_count": 1405,
   "metadata": {},
   "outputs": [
    {
     "data": {
      "text/plain": [
       "array([ 7.99262056,  0.7743813 ,  9.11875129,  2.00813573,  3.49599407,\n",
       "        1.02855614,  0.97099653,  1.48574322,  2.71440351,  1.82016526,\n",
       "       10.77069164,  6.64904208,  5.2288066 ,  6.6414857 ,  5.98246162,\n",
       "       10.01637971,  6.70386638,  3.73996358,  3.54747923,  1.9091526 ,\n",
       "        0.89555637,  6.61405857,  2.20072668, 10.23148858,  2.84473247,\n",
       "        0.6137881 ,  2.66458098,  6.10121268,  9.43986262,  1.29318773,\n",
       "        2.59198889,  0.6137881 ,  3.18271273,  4.61659755,  1.82760421,\n",
       "        0.6137881 ,  5.98805994,  2.84962142,  2.12807127,  7.39436826,\n",
       "        0.72198845,  8.30589608,  4.68716223,  6.85266449,  6.66071046,\n",
       "        0.6137881 ,  2.38146922,  0.95456239,  2.56754921,  5.62211709,\n",
       "       10.74426661,  4.90541894,  2.7324369 ,  1.65399154, 10.51870026,\n",
       "        5.57235636,  0.6137881 ,  6.57738386,  7.66830072,  8.94542321,\n",
       "        7.53945195,  4.42755727,  9.9700014 ,  0.72033516,  0.73666122,\n",
       "        4.79630329,  1.39366204,  7.08818724, 12.38615314,  0.72033516,\n",
       "        1.56738279,  3.96957054,  8.11179421, 11.83404645, 11.37564413,\n",
       "        3.82833048,  2.60585272,  8.42565485,  2.51741927,  0.69568859,\n",
       "        2.64184347,  0.90675114,  2.85964927, 10.15927193,  6.52938848,\n",
       "        0.80223566,  0.9137426 ,  7.79734346,  8.79424482, 11.62687383,\n",
       "        5.26254031,  9.68356948, 10.82418124, 10.33335583,  6.89790053,\n",
       "        7.57950072,  1.53847546,  7.35451025,  0.69728785,  6.51689427,\n",
       "        0.80383491, 10.84152495,  0.6137881 ,  0.91699515,  1.41168614,\n",
       "        1.09172999,  9.93644068,  3.3463812 , 10.13546579,  1.28893039,\n",
       "        4.37163141,  8.57278033,  1.4219842 ,  5.9520025 ,  0.6137881 ,\n",
       "        4.38909918, 11.47258374,  3.02705323,  0.6137881 ,  1.83782965,\n",
       "        4.53174998,  1.46691777,  7.25400971,  2.64341996, 10.44193636,\n",
       "        7.37431655, 10.88489138,  9.81057497,  6.83594443,  9.06354752,\n",
       "        2.14764059,  1.02359626, 10.6945296 ,  2.05273919,  0.80874075,\n",
       "        7.07534597,  5.31401369,  4.94869162,  9.99188925,  0.6137881 ,\n",
       "        8.4058811 ,  7.45981023,  1.25632303,  1.60594554])"
      ]
     },
     "execution_count": 1405,
     "metadata": {},
     "output_type": "execute_result"
    }
   ],
   "source": [
    "# Apply model to the test set\n",
    "y_pred_train2 = regr.predict(x_train2)\n",
    "y_pred_train2"
   ]
  },
  {
   "cell_type": "markdown",
   "metadata": {},
   "source": [
    "Plotting the training and predicted variables of the dependent values and showing the root mean squarred error and R-squarred score"
   ]
  },
  {
   "cell_type": "code",
   "execution_count": 1406,
   "metadata": {},
   "outputs": [
    {
     "name": "stdout",
     "output_type": "stream",
     "text": [
      "Root mean squared error = 1.2451\n",
      "R-squared = 0.8905\n"
     ]
    },
    {
     "data": {
      "image/png": "[encoded data removed]",
      "text/plain": [
       "<Figure size 640x480 with 1 Axes>"
      ]
     },
     "metadata": {},
     "output_type": "display_data"
    }
   ],
   "source": [
    "# Model evaluation\n",
    "print(\"Root mean squared error = %.4f\" % np.sqrt(mean_squared_error(y_train2, y_pred_train2)))\n",
    "print('R-squared = %.4f' % r2_score(y_train2, y_pred_train2))\n",
    "\n",
    "plt.scatter(y_train2, y_pred_train2)\n",
    "plt.plot(y_train2, y_pred_train2, color=\"red\")\n",
    "plt.xlabel(\"Actual Total_Litres_of_Pure_Alcohol\")\n",
    "plt.ylabel(\"Predicted Total_Litres_of_Pure_Alcohol\")\n",
    "plt.show()"
   ]
  },
  {
   "cell_type": "markdown",
   "metadata": {},
   "source": [
    "Using the testing data now to apply multiple linear regression"
   ]
  },
  {
   "cell_type": "code",
   "execution_count": 1407,
   "metadata": {},
   "outputs": [],
   "source": [
    "y_pred_test2 = regr.predict(x_test2)"
   ]
  },
  {
   "cell_type": "code",
   "execution_count": 1408,
   "metadata": {},
   "outputs": [
    {
     "name": "stdout",
     "output_type": "stream",
     "text": [
      "Root mean squared error = 1.5794\n",
      "R-squared = 0.8184\n"
     ]
    },
    {
     "data": {
      "text/plain": [
       "Text(0, 0.5, 'Predicted Litres_of_Pure_Alcohol')"
      ]
     },
     "execution_count": 1408,
     "metadata": {},
     "output_type": "execute_result"
    },
    {
     "data": {
      "image/png": "[encoded data removed]",
      "text/plain": [
       "<Figure size 640x480 with 1 Axes>"
      ]
     },
     "metadata": {},
     "output_type": "display_data"
    }
   ],
   "source": [
    "# Model evaluation\n",
    "print(\"Root mean squared error = %.4f\" % np.sqrt(mean_squared_error(y_test2, y_pred_test2)))\n",
    "print('R-squared = %.4f' % r2_score(y_test2, y_pred_test2))\n",
    "\n",
    "plt.scatter(y_test2, y_pred_test2)\n",
    "plt.plot(y_test2, y_pred_test2, color=\"red\")\n",
    "plt.xlabel(\"Actual Litres_of_Pure_Alcohol\")\n",
    "plt.ylabel(\"Predicted Litres_of_Pure_Alcohol\")"
   ]
  },
  {
   "cell_type": "markdown",
   "metadata": {},
   "source": [
    "## Regression and Classification\n",
    "Using Admission dataset"
   ]
  },
  {
   "cell_type": "code",
   "execution_count": 1409,
   "metadata": {},
   "outputs": [
    {
     "name": "stdout",
     "output_type": "stream",
     "text": [
      "(500, 9)\n",
      "Serial No.           0\n",
      "GRE Score            0\n",
      "TOEFL Score          0\n",
      "University Rating    0\n",
      "SOP                  0\n",
      "LOR                  0\n",
      "CGPA                 0\n",
      "Research             0\n",
      "Chance of Admit      0\n",
      "dtype: int64\n"
     ]
    },
    {
     "data": {
      "text/html": [
       "<div>\n",
       "<style scoped>\n",
       "    .dataframe tbody tr th:only-of-type {\n",
       "        vertical-align: middle;\n",
       "    }\n",
       "\n",
       "    .dataframe tbody tr th {\n",
       "        vertical-align: top;\n",
       "    }\n",
       "\n",
       "    .dataframe thead th {\n",
       "        text-align: right;\n",
       "    }\n",
       "</style>\n",
       "<table border=\"1\" class=\"dataframe\">\n",
       "  <thead>\n",
       "    <tr style=\"text-align: right;\">\n",
       "      <th></th>\n",
       "      <th>Serial No.</th>\n",
       "      <th>GRE Score</th>\n",
       "      <th>TOEFL Score</th>\n",
       "      <th>University Rating</th>\n",
       "      <th>SOP</th>\n",
       "      <th>LOR</th>\n",
       "      <th>CGPA</th>\n",
       "      <th>Research</th>\n",
       "      <th>Chance of Admit</th>\n",
       "    </tr>\n",
       "  </thead>\n",
       "  <tbody>\n",
       "    <tr>\n",
       "      <th>0</th>\n",
       "      <td>1</td>\n",
       "      <td>337</td>\n",
       "      <td>118</td>\n",
       "      <td>4</td>\n",
       "      <td>4.5</td>\n",
       "      <td>4.5</td>\n",
       "      <td>9.65</td>\n",
       "      <td>1</td>\n",
       "      <td>0.92</td>\n",
       "    </tr>\n",
       "    <tr>\n",
       "      <th>1</th>\n",
       "      <td>2</td>\n",
       "      <td>324</td>\n",
       "      <td>107</td>\n",
       "      <td>4</td>\n",
       "      <td>4.0</td>\n",
       "      <td>4.5</td>\n",
       "      <td>8.87</td>\n",
       "      <td>1</td>\n",
       "      <td>0.76</td>\n",
       "    </tr>\n",
       "    <tr>\n",
       "      <th>2</th>\n",
       "      <td>3</td>\n",
       "      <td>316</td>\n",
       "      <td>104</td>\n",
       "      <td>3</td>\n",
       "      <td>3.0</td>\n",
       "      <td>3.5</td>\n",
       "      <td>8.00</td>\n",
       "      <td>1</td>\n",
       "      <td>0.72</td>\n",
       "    </tr>\n",
       "    <tr>\n",
       "      <th>3</th>\n",
       "      <td>4</td>\n",
       "      <td>322</td>\n",
       "      <td>110</td>\n",
       "      <td>3</td>\n",
       "      <td>3.5</td>\n",
       "      <td>2.5</td>\n",
       "      <td>8.67</td>\n",
       "      <td>1</td>\n",
       "      <td>0.80</td>\n",
       "    </tr>\n",
       "    <tr>\n",
       "      <th>4</th>\n",
       "      <td>5</td>\n",
       "      <td>314</td>\n",
       "      <td>103</td>\n",
       "      <td>2</td>\n",
       "      <td>2.0</td>\n",
       "      <td>3.0</td>\n",
       "      <td>8.21</td>\n",
       "      <td>0</td>\n",
       "      <td>0.65</td>\n",
       "    </tr>\n",
       "    <tr>\n",
       "      <th>5</th>\n",
       "      <td>6</td>\n",
       "      <td>330</td>\n",
       "      <td>115</td>\n",
       "      <td>5</td>\n",
       "      <td>4.5</td>\n",
       "      <td>3.0</td>\n",
       "      <td>9.34</td>\n",
       "      <td>1</td>\n",
       "      <td>0.90</td>\n",
       "    </tr>\n",
       "    <tr>\n",
       "      <th>6</th>\n",
       "      <td>7</td>\n",
       "      <td>321</td>\n",
       "      <td>109</td>\n",
       "      <td>3</td>\n",
       "      <td>3.0</td>\n",
       "      <td>4.0</td>\n",
       "      <td>8.20</td>\n",
       "      <td>1</td>\n",
       "      <td>0.75</td>\n",
       "    </tr>\n",
       "    <tr>\n",
       "      <th>7</th>\n",
       "      <td>8</td>\n",
       "      <td>308</td>\n",
       "      <td>101</td>\n",
       "      <td>2</td>\n",
       "      <td>3.0</td>\n",
       "      <td>4.0</td>\n",
       "      <td>7.90</td>\n",
       "      <td>0</td>\n",
       "      <td>0.68</td>\n",
       "    </tr>\n",
       "    <tr>\n",
       "      <th>8</th>\n",
       "      <td>9</td>\n",
       "      <td>302</td>\n",
       "      <td>102</td>\n",
       "      <td>1</td>\n",
       "      <td>2.0</td>\n",
       "      <td>1.5</td>\n",
       "      <td>8.00</td>\n",
       "      <td>0</td>\n",
       "      <td>0.50</td>\n",
       "    </tr>\n",
       "    <tr>\n",
       "      <th>9</th>\n",
       "      <td>10</td>\n",
       "      <td>323</td>\n",
       "      <td>108</td>\n",
       "      <td>3</td>\n",
       "      <td>3.5</td>\n",
       "      <td>3.0</td>\n",
       "      <td>8.60</td>\n",
       "      <td>0</td>\n",
       "      <td>0.45</td>\n",
       "    </tr>\n",
       "  </tbody>\n",
       "</table>\n",
       "</div>"
      ],
      "text/plain": [
       "   Serial No.  GRE Score  TOEFL Score  University Rating  SOP  LOR  CGPA  \\\n",
       "0           1        337          118                  4  4.5  4.5  9.65   \n",
       "1           2        324          107                  4  4.0  4.5  8.87   \n",
       "2           3        316          104                  3  3.0  3.5  8.00   \n",
       "3           4        322          110                  3  3.5  2.5  8.67   \n",
       "4           5        314          103                  2  2.0  3.0  8.21   \n",
       "5           6        330          115                  5  4.5  3.0  9.34   \n",
       "6           7        321          109                  3  3.0  4.0  8.20   \n",
       "7           8        308          101                  2  3.0  4.0  7.90   \n",
       "8           9        302          102                  1  2.0  1.5  8.00   \n",
       "9          10        323          108                  3  3.5  3.0  8.60   \n",
       "\n",
       "   Research  Chance of Admit  \n",
       "0         1             0.92  \n",
       "1         1             0.76  \n",
       "2         1             0.72  \n",
       "3         1             0.80  \n",
       "4         0             0.65  \n",
       "5         1             0.90  \n",
       "6         1             0.75  \n",
       "7         0             0.68  \n",
       "8         0             0.50  \n",
       "9         0             0.45  "
      ]
     },
     "execution_count": 1409,
     "metadata": {},
     "output_type": "execute_result"
    }
   ],
   "source": [
    "%matplotlib inline\n",
    "import os\n",
    "import numpy as np\n",
    "import pandas as pd\n",
    "from scipy.stats import zscore\n",
    "import matplotlib.pyplot as plt\n",
    "import matplotlib.image as mpimg\n",
    "\n",
    "path = \"./\"\n",
    "\n",
    "filename_read = os.path.join(path,\"Admission_Predict_Ver1.1_small_data_set_for_Linear_Regression.csv\")\n",
    "admission_Data = pd.read_csv(filename_read, na_values=['NA','?'])\n",
    "\n",
    "print(admission_Data.shape)\n",
    "print(admission_Data.isnull().sum())\n",
    "admission_Data.head(10)"
   ]
  },
  {
   "cell_type": "markdown",
   "metadata": {},
   "source": [
    "Convert CGPA to the normal GPA style which ranges from 1 to 5"
   ]
  },
  {
   "cell_type": "code",
   "execution_count": 1410,
   "metadata": {},
   "outputs": [
    {
     "data": {
      "text/html": [
       "<div>\n",
       "<style scoped>\n",
       "    .dataframe tbody tr th:only-of-type {\n",
       "        vertical-align: middle;\n",
       "    }\n",
       "\n",
       "    .dataframe tbody tr th {\n",
       "        vertical-align: top;\n",
       "    }\n",
       "\n",
       "    .dataframe thead th {\n",
       "        text-align: right;\n",
       "    }\n",
       "</style>\n",
       "<table border=\"1\" class=\"dataframe\">\n",
       "  <thead>\n",
       "    <tr style=\"text-align: right;\">\n",
       "      <th></th>\n",
       "      <th>Serial No.</th>\n",
       "      <th>GRE Score</th>\n",
       "      <th>TOEFL Score</th>\n",
       "      <th>University Rating</th>\n",
       "      <th>SOP</th>\n",
       "      <th>LOR</th>\n",
       "      <th>CGPA</th>\n",
       "      <th>Research</th>\n",
       "      <th>Chance of Admit</th>\n",
       "    </tr>\n",
       "  </thead>\n",
       "  <tbody>\n",
       "    <tr>\n",
       "      <th>0</th>\n",
       "      <td>1</td>\n",
       "      <td>0.94</td>\n",
       "      <td>0.928571</td>\n",
       "      <td>4</td>\n",
       "      <td>4.5</td>\n",
       "      <td>4.5</td>\n",
       "      <td>0.913462</td>\n",
       "      <td>1</td>\n",
       "      <td>0.92</td>\n",
       "    </tr>\n",
       "    <tr>\n",
       "      <th>1</th>\n",
       "      <td>2</td>\n",
       "      <td>0.68</td>\n",
       "      <td>0.535714</td>\n",
       "      <td>4</td>\n",
       "      <td>4.0</td>\n",
       "      <td>4.5</td>\n",
       "      <td>0.663462</td>\n",
       "      <td>1</td>\n",
       "      <td>0.76</td>\n",
       "    </tr>\n",
       "    <tr>\n",
       "      <th>2</th>\n",
       "      <td>3</td>\n",
       "      <td>0.52</td>\n",
       "      <td>0.428571</td>\n",
       "      <td>3</td>\n",
       "      <td>3.0</td>\n",
       "      <td>3.5</td>\n",
       "      <td>0.384615</td>\n",
       "      <td>1</td>\n",
       "      <td>0.72</td>\n",
       "    </tr>\n",
       "    <tr>\n",
       "      <th>3</th>\n",
       "      <td>4</td>\n",
       "      <td>0.64</td>\n",
       "      <td>0.642857</td>\n",
       "      <td>3</td>\n",
       "      <td>3.5</td>\n",
       "      <td>2.5</td>\n",
       "      <td>0.599359</td>\n",
       "      <td>1</td>\n",
       "      <td>0.80</td>\n",
       "    </tr>\n",
       "    <tr>\n",
       "      <th>4</th>\n",
       "      <td>5</td>\n",
       "      <td>0.48</td>\n",
       "      <td>0.392857</td>\n",
       "      <td>2</td>\n",
       "      <td>2.0</td>\n",
       "      <td>3.0</td>\n",
       "      <td>0.451923</td>\n",
       "      <td>0</td>\n",
       "      <td>0.65</td>\n",
       "    </tr>\n",
       "    <tr>\n",
       "      <th>...</th>\n",
       "      <td>...</td>\n",
       "      <td>...</td>\n",
       "      <td>...</td>\n",
       "      <td>...</td>\n",
       "      <td>...</td>\n",
       "      <td>...</td>\n",
       "      <td>...</td>\n",
       "      <td>...</td>\n",
       "      <td>...</td>\n",
       "    </tr>\n",
       "    <tr>\n",
       "      <th>495</th>\n",
       "      <td>496</td>\n",
       "      <td>0.84</td>\n",
       "      <td>0.571429</td>\n",
       "      <td>5</td>\n",
       "      <td>4.5</td>\n",
       "      <td>4.0</td>\n",
       "      <td>0.711538</td>\n",
       "      <td>1</td>\n",
       "      <td>0.87</td>\n",
       "    </tr>\n",
       "    <tr>\n",
       "      <th>496</th>\n",
       "      <td>497</td>\n",
       "      <td>0.94</td>\n",
       "      <td>0.892857</td>\n",
       "      <td>5</td>\n",
       "      <td>5.0</td>\n",
       "      <td>5.0</td>\n",
       "      <td>0.983974</td>\n",
       "      <td>1</td>\n",
       "      <td>0.96</td>\n",
       "    </tr>\n",
       "    <tr>\n",
       "      <th>497</th>\n",
       "      <td>498</td>\n",
       "      <td>0.80</td>\n",
       "      <td>1.000000</td>\n",
       "      <td>5</td>\n",
       "      <td>4.5</td>\n",
       "      <td>5.0</td>\n",
       "      <td>0.884615</td>\n",
       "      <td>1</td>\n",
       "      <td>0.93</td>\n",
       "    </tr>\n",
       "    <tr>\n",
       "      <th>498</th>\n",
       "      <td>499</td>\n",
       "      <td>0.44</td>\n",
       "      <td>0.392857</td>\n",
       "      <td>4</td>\n",
       "      <td>4.0</td>\n",
       "      <td>5.0</td>\n",
       "      <td>0.522436</td>\n",
       "      <td>0</td>\n",
       "      <td>0.73</td>\n",
       "    </tr>\n",
       "    <tr>\n",
       "      <th>499</th>\n",
       "      <td>500</td>\n",
       "      <td>0.74</td>\n",
       "      <td>0.750000</td>\n",
       "      <td>4</td>\n",
       "      <td>4.5</td>\n",
       "      <td>4.5</td>\n",
       "      <td>0.717949</td>\n",
       "      <td>0</td>\n",
       "      <td>0.84</td>\n",
       "    </tr>\n",
       "  </tbody>\n",
       "</table>\n",
       "<p>500 rows × 9 columns</p>\n",
       "</div>"
      ],
      "text/plain": [
       "     Serial No.  GRE Score  TOEFL Score  University Rating  SOP  LOR  \\\n",
       "0             1       0.94     0.928571                  4  4.5  4.5   \n",
       "1             2       0.68     0.535714                  4  4.0  4.5   \n",
       "2             3       0.52     0.428571                  3  3.0  3.5   \n",
       "3             4       0.64     0.642857                  3  3.5  2.5   \n",
       "4             5       0.48     0.392857                  2  2.0  3.0   \n",
       "..          ...        ...          ...                ...  ...  ...   \n",
       "495         496       0.84     0.571429                  5  4.5  4.0   \n",
       "496         497       0.94     0.892857                  5  5.0  5.0   \n",
       "497         498       0.80     1.000000                  5  4.5  5.0   \n",
       "498         499       0.44     0.392857                  4  4.0  5.0   \n",
       "499         500       0.74     0.750000                  4  4.5  4.5   \n",
       "\n",
       "         CGPA  Research  Chance of Admit  \n",
       "0    0.913462         1             0.92  \n",
       "1    0.663462         1             0.76  \n",
       "2    0.384615         1             0.72  \n",
       "3    0.599359         1             0.80  \n",
       "4    0.451923         0             0.65  \n",
       "..        ...       ...              ...  \n",
       "495  0.711538         1             0.87  \n",
       "496  0.983974         1             0.96  \n",
       "497  0.884615         1             0.93  \n",
       "498  0.522436         0             0.73  \n",
       "499  0.717949         0             0.84  \n",
       "\n",
       "[500 rows x 9 columns]"
      ]
     },
     "execution_count": 1410,
     "metadata": {},
     "output_type": "execute_result"
    }
   ],
   "source": [
    "normalize_numeric_minmax(admission_Data, 'CGPA')\n",
    "normalize_numeric_minmax(admission_Data, 'GRE Score')\n",
    "normalize_numeric_minmax(admission_Data, 'TOEFL Score')\n",
    "\n",
    "admission_Data"
   ]
  },
  {
   "cell_type": "code",
   "execution_count": 1411,
   "metadata": {},
   "outputs": [
    {
     "name": "stdout",
     "output_type": "stream",
     "text": [
      "x_train shape:  (375, 3)\n",
      "y_train shape:  (375,)\n",
      "x_test shape:  (125, 3)\n",
      "y_test shape:  (125,)\n"
     ]
    }
   ],
   "source": [
    "from sklearn.model_selection import train_test_split\n",
    "from sklearn import preprocessing\n",
    "\n",
    "x_train3, x_test3, y_train3, y_test3 = train_test_split(\n",
    "    admission_Data[['CGPA', 'GRE Score', 'TOEFL Score']],\n",
    "    admission_Data['Chance of Admit'],\n",
    "    test_size=0.25,\n",
    "    random_state=3\n",
    ")\n",
    "\n",
    "print(\"x_train shape: \", x_train3.shape)\n",
    "print(\"y_train shape: \", y_train3.shape)\n",
    "\n",
    "print(\"x_test shape: \", x_test3.shape)\n",
    "print(\"y_test shape: \", y_test3.shape)"
   ]
  },
  {
   "cell_type": "code",
   "execution_count": 1412,
   "metadata": {},
   "outputs": [
    {
     "data": {
      "text/html": [
       "<style>#sk-container-id-99 {color: black;}#sk-container-id-99 pre{padding: 0;}#sk-container-id-99 div.sk-toggleable {background-color: white;}#sk-container-id-99 label.sk-toggleable__label {cursor: pointer;display: block;width: 100%;margin-bottom: 0;padding: 0.3em;box-sizing: border-box;text-align: center;}#sk-container-id-99 label.sk-toggleable__label-arrow:before {content: \"▸\";float: left;margin-right: 0.25em;color: #696969;}#sk-container-id-99 label.sk-toggleable__label-arrow:hover:before {color: black;}#sk-container-id-99 div.sk-estimator:hover label.sk-toggleable__label-arrow:before {color: black;}#sk-container-id-99 div.sk-toggleable__content {max-height: 0;max-width: 0;overflow: hidden;text-align: left;background-color: #f0f8ff;}#sk-container-id-99 div.sk-toggleable__content pre {margin: 0.2em;color: black;border-radius: 0.25em;background-color: #f0f8ff;}#sk-container-id-99 input.sk-toggleable__control:checked~div.sk-toggleable__content {max-height: 200px;max-width: 100%;overflow: auto;}#sk-container-id-99 input.sk-toggleable__control:checked~label.sk-toggleable__label-arrow:before {content: \"▾\";}#sk-container-id-99 div.sk-estimator input.sk-toggleable__control:checked~label.sk-toggleable__label {background-color: #d4ebff;}#sk-container-id-99 div.sk-label input.sk-toggleable__control:checked~label.sk-toggleable__label {background-color: #d4ebff;}#sk-container-id-99 input.sk-hidden--visually {border: 0;clip: rect(1px 1px 1px 1px);clip: rect(1px, 1px, 1px, 1px);height: 1px;margin: -1px;overflow: hidden;padding: 0;position: absolute;width: 1px;}#sk-container-id-99 div.sk-estimator {font-family: monospace;background-color: #f0f8ff;border: 1px dotted black;border-radius: 0.25em;box-sizing: border-box;margin-bottom: 0.5em;}#sk-container-id-99 div.sk-estimator:hover {background-color: #d4ebff;}#sk-container-id-99 div.sk-parallel-item::after {content: \"\";width: 100%;border-bottom: 1px solid gray;flex-grow: 1;}#sk-container-id-99 div.sk-label:hover label.sk-toggleable__label {background-color: #d4ebff;}#sk-container-id-99 div.sk-serial::before {content: \"\";position: absolute;border-left: 1px solid gray;box-sizing: border-box;top: 0;bottom: 0;left: 50%;z-index: 0;}#sk-container-id-99 div.sk-serial {display: flex;flex-direction: column;align-items: center;background-color: white;padding-right: 0.2em;padding-left: 0.2em;position: relative;}#sk-container-id-99 div.sk-item {position: relative;z-index: 1;}#sk-container-id-99 div.sk-parallel {display: flex;align-items: stretch;justify-content: center;background-color: white;position: relative;}#sk-container-id-99 div.sk-item::before, #sk-container-id-99 div.sk-parallel-item::before {content: \"\";position: absolute;border-left: 1px solid gray;box-sizing: border-box;top: 0;bottom: 0;left: 50%;z-index: -1;}#sk-container-id-99 div.sk-parallel-item {display: flex;flex-direction: column;z-index: 1;position: relative;background-color: white;}#sk-container-id-99 div.sk-parallel-item:first-child::after {align-self: flex-end;width: 50%;}#sk-container-id-99 div.sk-parallel-item:last-child::after {align-self: flex-start;width: 50%;}#sk-container-id-99 div.sk-parallel-item:only-child::after {width: 0;}#sk-container-id-99 div.sk-dashed-wrapped {border: 1px dashed gray;margin: 0 0.4em 0.5em 0.4em;box-sizing: border-box;padding-bottom: 0.4em;background-color: white;}#sk-container-id-99 div.sk-label label {font-family: monospace;font-weight: bold;display: inline-block;line-height: 1.2em;}#sk-container-id-99 div.sk-label-container {text-align: center;}#sk-container-id-99 div.sk-container {/* jupyter's `normalize.less` sets `[hidden] { display: none; }` but bootstrap.min.css set `[hidden] { display: none !important; }` so we also need the `!important` here to be able to override the default hidden behavior on the sphinx rendered scikit-learn.org. See: https://github.com/scikit-learn/scikit-learn/issues/21755 */display: inline-block !important;position: relative;}#sk-container-id-99 div.sk-text-repr-fallback {display: none;}</style><div id=\"sk-container-id-99\" class=\"sk-top-container\"><div class=\"sk-text-repr-fallback\"><pre>LinearRegression()</pre><b>In a Jupyter environment, please rerun this cell to show the HTML representation or trust the notebook. <br />On GitHub, the HTML representation is unable to render, please try loading this page with nbviewer.org.</b></div><div class=\"sk-container\" hidden><div class=\"sk-item\"><div class=\"sk-estimator sk-toggleable\"><input class=\"sk-toggleable__control sk-hidden--visually\" id=\"sk-estimator-id-99\" type=\"checkbox\" checked><label for=\"sk-estimator-id-99\" class=\"sk-toggleable__label sk-toggleable__label-arrow\">LinearRegression</label><div class=\"sk-toggleable__content\"><pre>LinearRegression()</pre></div></div></div></div></div>"
      ],
      "text/plain": [
       "LinearRegression()"
      ]
     },
     "execution_count": 1412,
     "metadata": {},
     "output_type": "execute_result"
    }
   ],
   "source": [
    "from sklearn import linear_model\n",
    "# Create linear regression object\n",
    "regr = linear_model.LinearRegression()\n",
    "\n",
    "# Fit regression model to the training set\n",
    "regr.fit(x_train3, y_train3)"
   ]
  },
  {
   "cell_type": "code",
   "execution_count": 1413,
   "metadata": {},
   "outputs": [
    {
     "data": {
      "text/plain": [
       "array([0.5957527 , 0.5344182 , 0.572998  , 0.48920518, 0.6543493 ,\n",
       "       0.66508603, 0.98268247, 0.6830817 , 0.8198837 , 0.6956224 ,\n",
       "       0.7520336 , 0.8317158 , 0.83343685, 0.68704337, 0.77066666,\n",
       "       0.6060681 , 0.90334165, 0.8375238 , 0.78259057, 0.8355262 ,\n",
       "       0.5856794 , 0.6509074 , 0.7249781 , 0.6042011 , 0.93569314,\n",
       "       0.8913312 , 0.6771483 , 0.924814  , 0.63431954, 0.8057968 ,\n",
       "       0.7142242 , 0.69747645, 0.6298511 , 0.7647462 , 0.90805316,\n",
       "       0.8145218 , 0.6979443 , 0.8221632 , 0.78018904, 0.90039873,\n",
       "       0.7579887 , 0.75721717, 0.8384303 , 0.8424049 , 0.83205837,\n",
       "       0.5990953 , 0.68530595, 0.64424586, 0.9302329 , 0.7740039 ,\n",
       "       0.8525949 , 0.6371371 , 0.9354329 , 0.5271063 , 0.7588681 ,\n",
       "       0.68262255, 0.56327057, 0.67552674, 0.574085  , 0.963143  ,\n",
       "       0.73787665, 0.79336613, 0.5669503 , 0.8085573 , 0.88372445,\n",
       "       0.6157254 , 0.64590204, 0.5275731 , 0.9405613 , 0.95197415,\n",
       "       0.89457774, 0.65544164, 0.8891641 , 0.77048075, 0.90619385,\n",
       "       0.9756913 , 0.87792933, 0.9464946 , 0.9895222 , 0.4471445 ,\n",
       "       0.5813191 , 0.82059884, 0.79021907, 0.56104285, 0.9383023 ,\n",
       "       0.5142707 , 0.7691575 , 0.9665979 , 0.689041  , 0.54104424,\n",
       "       0.8068804 , 0.830724  , 0.8196536 , 0.7912767 , 0.75579107,\n",
       "       0.7006235 , 0.7800238 , 0.71376514, 0.58272356, 0.824122  ,\n",
       "       0.7372099 , 0.6070869 , 0.73510325, 0.9091108 , 0.8590144 ,\n",
       "       0.6974193 , 0.39839193, 0.67138255, 0.7530124 , 0.70119506,\n",
       "       0.64992857, 0.93119884, 0.52019113, 0.84448135, 0.7814205 ,\n",
       "       0.7720192 , 0.5759443 , 0.6872682 , 0.54166   , 0.45804965,\n",
       "       0.50926435, 0.60955   , 0.5375158 , 0.73355186, 0.6835461 ,\n",
       "       0.61418265, 0.6683315 , 0.76605463, 0.6393831 , 0.8619573 ,\n",
       "       0.6304021 , 0.90488017, 0.75692225, 0.6704209 , 0.484134  ,\n",
       "       0.74023503, 0.8883884 , 0.8911929 , 0.71411186, 0.6166836 ,\n",
       "       0.7127463 , 0.84209704, 0.6433189 , 1.0130622 , 0.8159609 ,\n",
       "       0.871727  , 0.72878325, 0.65932983, 0.7704582 , 0.64362144,\n",
       "       0.6886519 , 0.82309556, 0.47358853, 0.63457984, 0.6215594 ,\n",
       "       0.78257763, 0.4960891 , 0.666039  , 0.72017586, 0.7195774 ,\n",
       "       0.6584105 , 0.48656484, 0.73291445, 0.5307937 , 0.5929093 ,\n",
       "       0.7261871 , 0.7278173 , 0.9249835 , 0.7523103 , 0.7083168 ,\n",
       "       0.94971526, 0.81858295, 0.8708812 , 0.72582734, 0.688114  ,\n",
       "       0.57695967, 0.447071  , 0.84054554, 0.6772607 , 0.9722494 ,\n",
       "       0.58489597, 0.8789741 , 0.5779914 , 0.45970583, 0.71296763,\n",
       "       0.590608  , 0.8530022 , 0.8452561 , 0.7062144 , 0.7884116 ,\n",
       "       0.56235653, 0.6193705 , 0.6407356 , 0.93116   , 0.73628634,\n",
       "       0.62222266, 0.60938466, 0.6266099 , 0.81849647, 0.54038095,\n",
       "       0.7125604 , 0.57289326, 0.6916813 , 0.66950154, 0.63370043,\n",
       "       0.75659275, 0.628438  , 0.55380106, 0.86156297, 0.6867797 ,\n",
       "       0.6169008 , 0.7053739 , 0.5732963 , 0.9564556 , 0.70593244,\n",
       "       0.70824325, 0.8322408 , 0.73260653, 0.6146807 , 0.60276973,\n",
       "       0.5776783 , 0.78153294, 0.6126571 , 0.7233878 , 0.6388581 ,\n",
       "       0.71797407, 0.66151345, 0.62497544, 0.7336513 , 0.77781427,\n",
       "       0.89679253, 0.5864033 , 0.7119177 , 0.7910207 , 0.8393184 ,\n",
       "       0.5690527 , 0.69913256, 0.9267044 , 0.74874294, 0.9102938 ,\n",
       "       0.62921375, 0.79554623, 0.8949851 , 0.57262003, 0.5985573 ,\n",
       "       0.7287108 , 0.7075505 , 0.50250334, 0.84979033, 0.8291544 ,\n",
       "       0.63889694, 0.653214  , 0.6851182 , 0.93949056, 0.79932547,\n",
       "       0.8820034 , 0.6156389 , 0.6727793 , 0.78285956, 0.62883234,\n",
       "       0.5297707 , 0.97029066, 0.6557884 , 0.84049374, 0.8487197 ,\n",
       "       0.7262    , 0.7437289 , 0.876109  , 0.80119777, 0.8829746 ,\n",
       "       0.700979  , 0.8282662 , 0.7687761 , 0.847931  , 0.52843535,\n",
       "       0.51492107, 0.5556162 , 0.61745936, 0.74233735, 0.82400966,\n",
       "       0.66528916, 0.73689777, 0.6486225 , 0.6771483 , 0.6273727 ,\n",
       "       0.7898895 , 0.70595837, 0.77962947, 0.7808437 , 0.9058384 ,\n",
       "       0.6872206 , 0.59179103, 0.75601596, 0.6351654 , 0.8273003 ,\n",
       "       0.8068545 , 0.60161793, 0.7671123 , 0.61753285, 0.6783184 ,\n",
       "       0.79897   , 0.76439947, 0.8514854 , 0.855204  , 0.48371267,\n",
       "       0.780324  , 0.7825258 , 0.7362258 , 0.6404831 , 0.8011848 ,\n",
       "       0.9510807 , 0.72830236, 0.67967093, 0.80077744, 0.9565463 ,\n",
       "       0.60593504, 0.8080894 , 0.960495  , 0.6599326 , 0.53913736,\n",
       "       0.42642206, 0.594306  , 0.61330223, 0.68279207, 0.7334783 ,\n",
       "       0.6803472 , 0.6115648 , 0.6259683 , 0.8721862 , 0.83155155,\n",
       "       0.6626758 , 0.9490961 , 0.86583245, 0.58402425, 0.7840296 ,\n",
       "       0.6768534 , 0.85175437, 0.61241937, 0.8510823 , 0.68113065,\n",
       "       0.7528612 , 0.8580085 , 0.52456546, 0.56625766, 0.9068961 ,\n",
       "       0.5531195 , 0.78992414, 0.75698817, 0.67030853, 0.90935385,\n",
       "       0.60295224, 0.9218105 , 0.7731763 , 0.72767365, 0.9399109 ,\n",
       "       0.5518846 , 0.7319044 , 0.9814606 , 0.78073996, 0.8138715 ,\n",
       "       0.77694786, 0.49779186, 0.84429014, 0.5973354 , 0.65163124,\n",
       "       1.0116103 , 0.8428122 , 0.718685  , 0.67653257, 0.5556162 ,\n",
       "       0.56927407, 0.6920445 , 0.7808566 , 0.8171698 , 0.8932694 ],\n",
       "      dtype=float32)"
      ]
     },
     "execution_count": 1413,
     "metadata": {},
     "output_type": "execute_result"
    }
   ],
   "source": [
    "# Apply model to the test set\n",
    "y_pred_train3 = regr.predict(x_train3)\n",
    "y_pred_train3"
   ]
  },
  {
   "cell_type": "code",
   "execution_count": 1414,
   "metadata": {},
   "outputs": [
    {
     "name": "stdout",
     "output_type": "stream",
     "text": [
      "Root mean squared error = 0.0599\n",
      "R-squared = 0.8211\n"
     ]
    },
    {
     "data": {
      "text/plain": [
       "Text(0, 0.5, 'Predicted Chance of Admission')"
      ]
     },
     "execution_count": 1414,
     "metadata": {},
     "output_type": "execute_result"
    },
    {
     "data": {
      "image/png": "[encoded data removed]",
      "text/plain": [
       "<Figure size 640x480 with 1 Axes>"
      ]
     },
     "metadata": {},
     "output_type": "display_data"
    }
   ],
   "source": [
    "# Model evaluation\n",
    "print(\"Root mean squared error = %.4f\" % np.sqrt(mean_squared_error(y_train3, y_pred_train3)))\n",
    "print('R-squared = %.4f' % r2_score(y_train3, y_pred_train3))\n",
    "\n",
    "plt.scatter(y_train3, y_pred_train3)\n",
    "plt.xlabel(\"Actual Chance of Admission\")\n",
    "plt.ylabel(\"Predicted Chance of Admission\")"
   ]
  },
  {
   "cell_type": "markdown",
   "metadata": {},
   "source": [
    "### Classification"
   ]
  },
  {
   "cell_type": "code",
   "execution_count": 1415,
   "metadata": {},
   "outputs": [
    {
     "name": "stdout",
     "output_type": "stream",
     "text": [
      "(500, 9)\n",
      "Serial No.           0\n",
      "GRE Score            0\n",
      "TOEFL Score          0\n",
      "University Rating    0\n",
      "SOP                  0\n",
      "LOR                  0\n",
      "CGPA                 0\n",
      "Research             0\n",
      "Chance of Admit      0\n",
      "dtype: int64\n"
     ]
    },
    {
     "data": {
      "text/html": [
       "<div>\n",
       "<style scoped>\n",
       "    .dataframe tbody tr th:only-of-type {\n",
       "        vertical-align: middle;\n",
       "    }\n",
       "\n",
       "    .dataframe tbody tr th {\n",
       "        vertical-align: top;\n",
       "    }\n",
       "\n",
       "    .dataframe thead th {\n",
       "        text-align: right;\n",
       "    }\n",
       "</style>\n",
       "<table border=\"1\" class=\"dataframe\">\n",
       "  <thead>\n",
       "    <tr style=\"text-align: right;\">\n",
       "      <th></th>\n",
       "      <th>Serial No.</th>\n",
       "      <th>GRE Score</th>\n",
       "      <th>TOEFL Score</th>\n",
       "      <th>University Rating</th>\n",
       "      <th>SOP</th>\n",
       "      <th>LOR</th>\n",
       "      <th>CGPA</th>\n",
       "      <th>Research</th>\n",
       "      <th>Chance of Admit</th>\n",
       "    </tr>\n",
       "  </thead>\n",
       "  <tbody>\n",
       "    <tr>\n",
       "      <th>0</th>\n",
       "      <td>1</td>\n",
       "      <td>337</td>\n",
       "      <td>118</td>\n",
       "      <td>4</td>\n",
       "      <td>4.5</td>\n",
       "      <td>4.5</td>\n",
       "      <td>9.65</td>\n",
       "      <td>1</td>\n",
       "      <td>0.92</td>\n",
       "    </tr>\n",
       "    <tr>\n",
       "      <th>1</th>\n",
       "      <td>2</td>\n",
       "      <td>324</td>\n",
       "      <td>107</td>\n",
       "      <td>4</td>\n",
       "      <td>4.0</td>\n",
       "      <td>4.5</td>\n",
       "      <td>8.87</td>\n",
       "      <td>1</td>\n",
       "      <td>0.76</td>\n",
       "    </tr>\n",
       "    <tr>\n",
       "      <th>2</th>\n",
       "      <td>3</td>\n",
       "      <td>316</td>\n",
       "      <td>104</td>\n",
       "      <td>3</td>\n",
       "      <td>3.0</td>\n",
       "      <td>3.5</td>\n",
       "      <td>8.00</td>\n",
       "      <td>1</td>\n",
       "      <td>0.72</td>\n",
       "    </tr>\n",
       "    <tr>\n",
       "      <th>3</th>\n",
       "      <td>4</td>\n",
       "      <td>322</td>\n",
       "      <td>110</td>\n",
       "      <td>3</td>\n",
       "      <td>3.5</td>\n",
       "      <td>2.5</td>\n",
       "      <td>8.67</td>\n",
       "      <td>1</td>\n",
       "      <td>0.80</td>\n",
       "    </tr>\n",
       "    <tr>\n",
       "      <th>4</th>\n",
       "      <td>5</td>\n",
       "      <td>314</td>\n",
       "      <td>103</td>\n",
       "      <td>2</td>\n",
       "      <td>2.0</td>\n",
       "      <td>3.0</td>\n",
       "      <td>8.21</td>\n",
       "      <td>0</td>\n",
       "      <td>0.65</td>\n",
       "    </tr>\n",
       "    <tr>\n",
       "      <th>5</th>\n",
       "      <td>6</td>\n",
       "      <td>330</td>\n",
       "      <td>115</td>\n",
       "      <td>5</td>\n",
       "      <td>4.5</td>\n",
       "      <td>3.0</td>\n",
       "      <td>9.34</td>\n",
       "      <td>1</td>\n",
       "      <td>0.90</td>\n",
       "    </tr>\n",
       "    <tr>\n",
       "      <th>6</th>\n",
       "      <td>7</td>\n",
       "      <td>321</td>\n",
       "      <td>109</td>\n",
       "      <td>3</td>\n",
       "      <td>3.0</td>\n",
       "      <td>4.0</td>\n",
       "      <td>8.20</td>\n",
       "      <td>1</td>\n",
       "      <td>0.75</td>\n",
       "    </tr>\n",
       "    <tr>\n",
       "      <th>7</th>\n",
       "      <td>8</td>\n",
       "      <td>308</td>\n",
       "      <td>101</td>\n",
       "      <td>2</td>\n",
       "      <td>3.0</td>\n",
       "      <td>4.0</td>\n",
       "      <td>7.90</td>\n",
       "      <td>0</td>\n",
       "      <td>0.68</td>\n",
       "    </tr>\n",
       "    <tr>\n",
       "      <th>8</th>\n",
       "      <td>9</td>\n",
       "      <td>302</td>\n",
       "      <td>102</td>\n",
       "      <td>1</td>\n",
       "      <td>2.0</td>\n",
       "      <td>1.5</td>\n",
       "      <td>8.00</td>\n",
       "      <td>0</td>\n",
       "      <td>0.50</td>\n",
       "    </tr>\n",
       "    <tr>\n",
       "      <th>9</th>\n",
       "      <td>10</td>\n",
       "      <td>323</td>\n",
       "      <td>108</td>\n",
       "      <td>3</td>\n",
       "      <td>3.5</td>\n",
       "      <td>3.0</td>\n",
       "      <td>8.60</td>\n",
       "      <td>0</td>\n",
       "      <td>0.45</td>\n",
       "    </tr>\n",
       "  </tbody>\n",
       "</table>\n",
       "</div>"
      ],
      "text/plain": [
       "   Serial No.  GRE Score  TOEFL Score  University Rating  SOP  LOR  CGPA  \\\n",
       "0           1        337          118                  4  4.5  4.5  9.65   \n",
       "1           2        324          107                  4  4.0  4.5  8.87   \n",
       "2           3        316          104                  3  3.0  3.5  8.00   \n",
       "3           4        322          110                  3  3.5  2.5  8.67   \n",
       "4           5        314          103                  2  2.0  3.0  8.21   \n",
       "5           6        330          115                  5  4.5  3.0  9.34   \n",
       "6           7        321          109                  3  3.0  4.0  8.20   \n",
       "7           8        308          101                  2  3.0  4.0  7.90   \n",
       "8           9        302          102                  1  2.0  1.5  8.00   \n",
       "9          10        323          108                  3  3.5  3.0  8.60   \n",
       "\n",
       "   Research  Chance of Admit  \n",
       "0         1             0.92  \n",
       "1         1             0.76  \n",
       "2         1             0.72  \n",
       "3         1             0.80  \n",
       "4         0             0.65  \n",
       "5         1             0.90  \n",
       "6         1             0.75  \n",
       "7         0             0.68  \n",
       "8         0             0.50  \n",
       "9         0             0.45  "
      ]
     },
     "execution_count": 1415,
     "metadata": {},
     "output_type": "execute_result"
    }
   ],
   "source": [
    "# %matplotlib inline\n",
    "# import os\n",
    "# import numpy as np\n",
    "# import pandas as pd\n",
    "# from scipy.stats import zscore\n",
    "# import matplotlib.pyplot as plt\n",
    "# import matplotlib.image as mpimg\n",
    "import pandas as pd\n",
    "from sklearn.tree import DecisionTreeClassifier # Import Decision Tree Classifier\n",
    "from sklearn.model_selection import train_test_split # Import train_test_split function\n",
    "from sklearn import metrics #Import scikit-learn metrics module for accuracy calculation\n",
    "\n",
    "path = \"./\"\n",
    "\n",
    "filename_read = os.path.join(path,\"Admission_Predict_Ver1.1_small_data_set_for_Linear_Regression.csv\")\n",
    "admission_Data = pd.read_csv(filename_read, na_values=['NA','?'])\n",
    "\n",
    "print(admission_Data.shape)\n",
    "print(admission_Data.isnull().sum())\n",
    "admission_Data.head(10)"
   ]
  },
  {
   "cell_type": "code",
   "execution_count": 1416,
   "metadata": {},
   "outputs": [
    {
     "data": {
      "text/html": [
       "<div>\n",
       "<style scoped>\n",
       "    .dataframe tbody tr th:only-of-type {\n",
       "        vertical-align: middle;\n",
       "    }\n",
       "\n",
       "    .dataframe tbody tr th {\n",
       "        vertical-align: top;\n",
       "    }\n",
       "\n",
       "    .dataframe thead th {\n",
       "        text-align: right;\n",
       "    }\n",
       "</style>\n",
       "<table border=\"1\" class=\"dataframe\">\n",
       "  <thead>\n",
       "    <tr style=\"text-align: right;\">\n",
       "      <th></th>\n",
       "      <th>Serial No.</th>\n",
       "      <th>GRE Score</th>\n",
       "      <th>TOEFL Score</th>\n",
       "      <th>University Rating</th>\n",
       "      <th>SOP</th>\n",
       "      <th>LOR</th>\n",
       "      <th>CGPA</th>\n",
       "      <th>Research</th>\n",
       "      <th>Chance of Admit</th>\n",
       "    </tr>\n",
       "  </thead>\n",
       "  <tbody>\n",
       "    <tr>\n",
       "      <th>0</th>\n",
       "      <td>1</td>\n",
       "      <td>0.94</td>\n",
       "      <td>0.928571</td>\n",
       "      <td>4</td>\n",
       "      <td>4.5</td>\n",
       "      <td>4.5</td>\n",
       "      <td>0.913462</td>\n",
       "      <td>1</td>\n",
       "      <td>0.92</td>\n",
       "    </tr>\n",
       "    <tr>\n",
       "      <th>1</th>\n",
       "      <td>2</td>\n",
       "      <td>0.68</td>\n",
       "      <td>0.535714</td>\n",
       "      <td>4</td>\n",
       "      <td>4.0</td>\n",
       "      <td>4.5</td>\n",
       "      <td>0.663462</td>\n",
       "      <td>1</td>\n",
       "      <td>0.76</td>\n",
       "    </tr>\n",
       "    <tr>\n",
       "      <th>2</th>\n",
       "      <td>3</td>\n",
       "      <td>0.52</td>\n",
       "      <td>0.428571</td>\n",
       "      <td>3</td>\n",
       "      <td>3.0</td>\n",
       "      <td>3.5</td>\n",
       "      <td>0.384615</td>\n",
       "      <td>1</td>\n",
       "      <td>0.72</td>\n",
       "    </tr>\n",
       "    <tr>\n",
       "      <th>3</th>\n",
       "      <td>4</td>\n",
       "      <td>0.64</td>\n",
       "      <td>0.642857</td>\n",
       "      <td>3</td>\n",
       "      <td>3.5</td>\n",
       "      <td>2.5</td>\n",
       "      <td>0.599359</td>\n",
       "      <td>1</td>\n",
       "      <td>0.80</td>\n",
       "    </tr>\n",
       "    <tr>\n",
       "      <th>4</th>\n",
       "      <td>5</td>\n",
       "      <td>0.48</td>\n",
       "      <td>0.392857</td>\n",
       "      <td>2</td>\n",
       "      <td>2.0</td>\n",
       "      <td>3.0</td>\n",
       "      <td>0.451923</td>\n",
       "      <td>0</td>\n",
       "      <td>0.65</td>\n",
       "    </tr>\n",
       "    <tr>\n",
       "      <th>...</th>\n",
       "      <td>...</td>\n",
       "      <td>...</td>\n",
       "      <td>...</td>\n",
       "      <td>...</td>\n",
       "      <td>...</td>\n",
       "      <td>...</td>\n",
       "      <td>...</td>\n",
       "      <td>...</td>\n",
       "      <td>...</td>\n",
       "    </tr>\n",
       "    <tr>\n",
       "      <th>495</th>\n",
       "      <td>496</td>\n",
       "      <td>0.84</td>\n",
       "      <td>0.571429</td>\n",
       "      <td>5</td>\n",
       "      <td>4.5</td>\n",
       "      <td>4.0</td>\n",
       "      <td>0.711538</td>\n",
       "      <td>1</td>\n",
       "      <td>0.87</td>\n",
       "    </tr>\n",
       "    <tr>\n",
       "      <th>496</th>\n",
       "      <td>497</td>\n",
       "      <td>0.94</td>\n",
       "      <td>0.892857</td>\n",
       "      <td>5</td>\n",
       "      <td>5.0</td>\n",
       "      <td>5.0</td>\n",
       "      <td>0.983974</td>\n",
       "      <td>1</td>\n",
       "      <td>0.96</td>\n",
       "    </tr>\n",
       "    <tr>\n",
       "      <th>497</th>\n",
       "      <td>498</td>\n",
       "      <td>0.80</td>\n",
       "      <td>1.000000</td>\n",
       "      <td>5</td>\n",
       "      <td>4.5</td>\n",
       "      <td>5.0</td>\n",
       "      <td>0.884615</td>\n",
       "      <td>1</td>\n",
       "      <td>0.93</td>\n",
       "    </tr>\n",
       "    <tr>\n",
       "      <th>498</th>\n",
       "      <td>499</td>\n",
       "      <td>0.44</td>\n",
       "      <td>0.392857</td>\n",
       "      <td>4</td>\n",
       "      <td>4.0</td>\n",
       "      <td>5.0</td>\n",
       "      <td>0.522436</td>\n",
       "      <td>0</td>\n",
       "      <td>0.73</td>\n",
       "    </tr>\n",
       "    <tr>\n",
       "      <th>499</th>\n",
       "      <td>500</td>\n",
       "      <td>0.74</td>\n",
       "      <td>0.750000</td>\n",
       "      <td>4</td>\n",
       "      <td>4.5</td>\n",
       "      <td>4.5</td>\n",
       "      <td>0.717949</td>\n",
       "      <td>0</td>\n",
       "      <td>0.84</td>\n",
       "    </tr>\n",
       "  </tbody>\n",
       "</table>\n",
       "<p>500 rows × 9 columns</p>\n",
       "</div>"
      ],
      "text/plain": [
       "     Serial No.  GRE Score  TOEFL Score  University Rating  SOP  LOR  \\\n",
       "0             1       0.94     0.928571                  4  4.5  4.5   \n",
       "1             2       0.68     0.535714                  4  4.0  4.5   \n",
       "2             3       0.52     0.428571                  3  3.0  3.5   \n",
       "3             4       0.64     0.642857                  3  3.5  2.5   \n",
       "4             5       0.48     0.392857                  2  2.0  3.0   \n",
       "..          ...        ...          ...                ...  ...  ...   \n",
       "495         496       0.84     0.571429                  5  4.5  4.0   \n",
       "496         497       0.94     0.892857                  5  5.0  5.0   \n",
       "497         498       0.80     1.000000                  5  4.5  5.0   \n",
       "498         499       0.44     0.392857                  4  4.0  5.0   \n",
       "499         500       0.74     0.750000                  4  4.5  4.5   \n",
       "\n",
       "         CGPA  Research  Chance of Admit  \n",
       "0    0.913462         1             0.92  \n",
       "1    0.663462         1             0.76  \n",
       "2    0.384615         1             0.72  \n",
       "3    0.599359         1             0.80  \n",
       "4    0.451923         0             0.65  \n",
       "..        ...       ...              ...  \n",
       "495  0.711538         1             0.87  \n",
       "496  0.983974         1             0.96  \n",
       "497  0.884615         1             0.93  \n",
       "498  0.522436         0             0.73  \n",
       "499  0.717949         0             0.84  \n",
       "\n",
       "[500 rows x 9 columns]"
      ]
     },
     "execution_count": 1416,
     "metadata": {},
     "output_type": "execute_result"
    }
   ],
   "source": [
    "normalize_numeric_minmax(admission_Data, 'CGPA')\n",
    "normalize_numeric_minmax(admission_Data, 'GRE Score')\n",
    "normalize_numeric_minmax(admission_Data, 'TOEFL Score')\n",
    "\n",
    "admission_Data"
   ]
  },
  {
   "cell_type": "code",
   "execution_count": 1417,
   "metadata": {},
   "outputs": [],
   "source": [
    "feature_cols = ['GRE Score', 'TOEFL Score', 'CGPA']\n",
    "x = admission_Data[feature_cols]\n",
    "y = admission_Data['Chance of Admit']"
   ]
  },
  {
   "cell_type": "code",
   "execution_count": 1418,
   "metadata": {},
   "outputs": [],
   "source": [
    "x_train4, x_test4, y_train4, y_test4 = train_test_split(x, y, test_size=0.25, random_state=10)"
   ]
  },
  {
   "cell_type": "code",
   "execution_count": 1419,
   "metadata": {},
   "outputs": [],
   "source": [
    "from sklearn.tree import DecisionTreeRegressor\n",
    "clf = DecisionTreeRegressor(random_state = 0)\n",
    "clf = clf.fit(x_train4, y_train4)"
   ]
  },
  {
   "cell_type": "code",
   "execution_count": 1420,
   "metadata": {},
   "outputs": [
    {
     "data": {
      "text/plain": [
       "array([0.93 , 0.9  , 0.86 , 0.86 , 0.68 , 0.73 , 0.75 , 0.73 , 0.73 ,\n",
       "       0.76 , 0.94 , 0.79 , 0.84 , 0.72 , 0.52 , 0.67 , 0.78 , 0.95 ,\n",
       "       0.7  , 0.66 , 0.76 , 0.73 , 0.62 , 0.86 , 0.34 , 0.9  , 0.71 ,\n",
       "       0.57 , 0.71 , 0.7  , 0.94 , 0.79 , 0.59 , 0.73 , 0.81 , 0.78 ,\n",
       "       0.78 , 0.68 , 0.71 , 0.71 , 0.9  , 0.72 , 0.7  , 0.94 , 0.96 ,\n",
       "       0.36 , 0.67 , 0.8  , 0.86 , 0.72 , 0.45 , 0.73 , 0.74 , 0.58 ,\n",
       "       0.81 , 0.8  , 0.88 , 0.42 , 0.8  , 0.93 , 0.73 , 0.9  , 0.81 ,\n",
       "       0.52 , 0.77 , 0.595, 0.72 , 0.73 , 0.59 , 0.7  , 0.91 , 0.595,\n",
       "       0.65 , 0.69 , 0.81 , 0.57 , 0.72 , 0.81 , 0.85 , 0.72 , 0.75 ,\n",
       "       0.68 , 0.73 , 0.8  , 0.8  , 0.8  , 0.78 , 0.64 , 0.73 , 0.94 ,\n",
       "       0.88 , 0.72 , 0.45 , 0.85 , 0.82 , 0.54 , 0.8  , 0.96 , 0.34 ,\n",
       "       0.7  , 0.82 , 0.94 , 0.72 , 0.57 , 0.91 , 0.49 , 0.79 , 0.37 ,\n",
       "       0.79 , 0.92 , 0.42 , 0.72 , 0.79 , 0.68 , 0.81 , 0.61 , 0.82 ,\n",
       "       0.53 , 0.8  , 0.45 , 0.71 , 0.93 , 0.8  , 0.73 , 0.8  ])"
      ]
     },
     "execution_count": 1420,
     "metadata": {},
     "output_type": "execute_result"
    }
   ],
   "source": [
    "y_pred_test4 = clf.predict(x_test4)\n",
    "y_pred_test4"
   ]
  },
  {
   "cell_type": "code",
   "execution_count": 1421,
   "metadata": {},
   "outputs": [
    {
     "data": {
      "image/png": "[encoded data removed]",
      "text/plain": [
       "<Figure size 640x480 with 1 Axes>"
      ]
     },
     "metadata": {},
     "output_type": "display_data"
    }
   ],
   "source": [
    "# arange for creating a range of values\n",
    "# from min value of X to max value of X\n",
    "# with a difference of 0.01 between two\n",
    "# consecutive values\n",
    "X_grid = np.arange(min(np.any(x_test4), 0), max(np.any(x_test4), 0), 0.01)\n",
    "\n",
    "# reshape for reshaping the data into\n",
    "# a len(X_grid)*1 array, i.e. to make\n",
    "# a column out of the X_grid values\n",
    "\n",
    "X_grid = X_grid.reshape((len(X_grid), 1))\n",
    "\n",
    "plt.plot(X_grid, regressor.predict(X_grid), color = 'blue')\n",
    "plt.title('Chance of Admission to GPE, TOEFL, and GPA (Decision Tree Regressor)')\n",
    "plt.xlabel('Chance of Admission')\n",
    "plt.ylabel('GPE, TOEFL, and GPA')\n",
    "plt.show()"
   ]
  }
 ],
 "metadata": {
  "kernelspec": {
   "display_name": "base",
   "language": "python",
   "name": "python3"
  },
  "language_info": {
   "codemirror_mode": {
    "name": "ipython",
    "version": 3
   },
   "file_extension": ".py",
   "mimetype": "text/x-python",
   "name": "python",
   "nbconvert_exporter": "python",
   "pygments_lexer": "ipython3",
   "version": "3.11.4"
  }
 },
 "nbformat": 4,
 "nbformat_minor": 2
}
