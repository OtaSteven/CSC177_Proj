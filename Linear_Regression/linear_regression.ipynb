{
 "cells": [
  {
   "cell_type": "markdown",
   "metadata": {},
   "source": [
    "# Linear Regression Part (A)\n",
    "## Getting the Dataset"
   ]
  },
  {
   "cell_type": "code",
   "execution_count": 111,
   "metadata": {},
   "outputs": [
    {
     "data": {
      "text/html": [
       "<div>\n",
       "<style scoped>\n",
       "    .dataframe tbody tr th:only-of-type {\n",
       "        vertical-align: middle;\n",
       "    }\n",
       "\n",
       "    .dataframe tbody tr th {\n",
       "        vertical-align: top;\n",
       "    }\n",
       "\n",
       "    .dataframe thead th {\n",
       "        text-align: right;\n",
       "    }\n",
       "</style>\n",
       "<table border=\"1\" class=\"dataframe\">\n",
       "  <thead>\n",
       "    <tr style=\"text-align: right;\">\n",
       "      <th></th>\n",
       "      <th>country</th>\n",
       "      <th>beer_servings</th>\n",
       "      <th>spirit_servings</th>\n",
       "      <th>wine_servings</th>\n",
       "      <th>total_litres_of_pure_alcohol</th>\n",
       "      <th>continent</th>\n",
       "    </tr>\n",
       "  </thead>\n",
       "  <tbody>\n",
       "    <tr>\n",
       "      <th>0</th>\n",
       "      <td>Afghanistan</td>\n",
       "      <td>0</td>\n",
       "      <td>0</td>\n",
       "      <td>0</td>\n",
       "      <td>0.0</td>\n",
       "      <td>Asia</td>\n",
       "    </tr>\n",
       "    <tr>\n",
       "      <th>1</th>\n",
       "      <td>Albania</td>\n",
       "      <td>89</td>\n",
       "      <td>132</td>\n",
       "      <td>54</td>\n",
       "      <td>4.9</td>\n",
       "      <td>Europe</td>\n",
       "    </tr>\n",
       "    <tr>\n",
       "      <th>2</th>\n",
       "      <td>Algeria</td>\n",
       "      <td>25</td>\n",
       "      <td>0</td>\n",
       "      <td>14</td>\n",
       "      <td>0.7</td>\n",
       "      <td>Africa</td>\n",
       "    </tr>\n",
       "    <tr>\n",
       "      <th>3</th>\n",
       "      <td>Andorra</td>\n",
       "      <td>245</td>\n",
       "      <td>138</td>\n",
       "      <td>312</td>\n",
       "      <td>12.4</td>\n",
       "      <td>Europe</td>\n",
       "    </tr>\n",
       "    <tr>\n",
       "      <th>4</th>\n",
       "      <td>Angola</td>\n",
       "      <td>217</td>\n",
       "      <td>57</td>\n",
       "      <td>45</td>\n",
       "      <td>5.9</td>\n",
       "      <td>Africa</td>\n",
       "    </tr>\n",
       "    <tr>\n",
       "      <th>5</th>\n",
       "      <td>Antigua &amp; Barbuda</td>\n",
       "      <td>102</td>\n",
       "      <td>128</td>\n",
       "      <td>45</td>\n",
       "      <td>4.9</td>\n",
       "      <td>North America</td>\n",
       "    </tr>\n",
       "    <tr>\n",
       "      <th>6</th>\n",
       "      <td>Argentina</td>\n",
       "      <td>193</td>\n",
       "      <td>25</td>\n",
       "      <td>221</td>\n",
       "      <td>8.3</td>\n",
       "      <td>South America</td>\n",
       "    </tr>\n",
       "    <tr>\n",
       "      <th>7</th>\n",
       "      <td>Armenia</td>\n",
       "      <td>21</td>\n",
       "      <td>179</td>\n",
       "      <td>11</td>\n",
       "      <td>3.8</td>\n",
       "      <td>Europe</td>\n",
       "    </tr>\n",
       "    <tr>\n",
       "      <th>8</th>\n",
       "      <td>Australia</td>\n",
       "      <td>261</td>\n",
       "      <td>72</td>\n",
       "      <td>212</td>\n",
       "      <td>10.4</td>\n",
       "      <td>Oceania</td>\n",
       "    </tr>\n",
       "    <tr>\n",
       "      <th>9</th>\n",
       "      <td>Austria</td>\n",
       "      <td>279</td>\n",
       "      <td>75</td>\n",
       "      <td>191</td>\n",
       "      <td>9.7</td>\n",
       "      <td>Europe</td>\n",
       "    </tr>\n",
       "  </tbody>\n",
       "</table>\n",
       "</div>"
      ],
      "text/plain": [
       "             country  beer_servings  spirit_servings  wine_servings  \\\n",
       "0        Afghanistan              0                0              0   \n",
       "1            Albania             89              132             54   \n",
       "2            Algeria             25                0             14   \n",
       "3            Andorra            245              138            312   \n",
       "4             Angola            217               57             45   \n",
       "5  Antigua & Barbuda            102              128             45   \n",
       "6          Argentina            193               25            221   \n",
       "7            Armenia             21              179             11   \n",
       "8          Australia            261               72            212   \n",
       "9            Austria            279               75            191   \n",
       "\n",
       "   total_litres_of_pure_alcohol      continent  \n",
       "0                           0.0           Asia  \n",
       "1                           4.9         Europe  \n",
       "2                           0.7         Africa  \n",
       "3                          12.4         Europe  \n",
       "4                           5.9         Africa  \n",
       "5                           4.9  North America  \n",
       "6                           8.3  South America  \n",
       "7                           3.8         Europe  \n",
       "8                          10.4        Oceania  \n",
       "9                           9.7         Europe  "
      ]
     },
     "execution_count": 111,
     "metadata": {},
     "output_type": "execute_result"
    }
   ],
   "source": [
    "%matplotlib inline\n",
    "import os\n",
    "import numpy as np\n",
    "import pandas as pd\n",
    "from scipy.stats import zscore\n",
    "import matplotlib.pyplot as plt\n",
    "import matplotlib.image as mpimg\n",
    "\n",
    "path = \"./\"\n",
    "\n",
    "filename_read = os.path.join(path,\"drinks.csv\")\n",
    "drink_Data = pd.read_csv(filename_read, na_values=['NA','?'])\n",
    "drink_Data.head(10)"
   ]
  },
  {
   "cell_type": "markdown",
   "metadata": {},
   "source": [
    "## Simple Linear Regression"
   ]
  },
  {
   "cell_type": "markdown",
   "metadata": {},
   "source": [
    "Creating a new dataset for holding onto the columns needed for Simple Linear Regression. In the new dataset we made, it has a new column called 'Combine_Servings' that takes the total amount of beer, spirit, and wine serverings."
   ]
  },
  {
   "cell_type": "code",
   "execution_count": 112,
   "metadata": {},
   "outputs": [
    {
     "name": "stderr",
     "output_type": "stream",
     "text": [
      "C:\\Users\\sho85\\AppData\\Local\\Temp\\ipykernel_22324\\1845018562.py:7: SettingWithCopyWarning: \n",
      "A value is trying to be set on a copy of a slice from a DataFrame.\n",
      "Try using .loc[row_indexer,col_indexer] = value instead\n",
      "\n",
      "See the caveats in the documentation: https://pandas.pydata.org/pandas-docs/stable/user_guide/indexing.html#returning-a-view-versus-a-copy\n",
      "  new_drink_Data['Combine_Servings'] = new_drink_Data['beer_servings'] + new_drink_Data['spirit_servings'] + new_drink_Data['wine_servings']\n"
     ]
    },
    {
     "data": {
      "text/html": [
       "<div>\n",
       "<style scoped>\n",
       "    .dataframe tbody tr th:only-of-type {\n",
       "        vertical-align: middle;\n",
       "    }\n",
       "\n",
       "    .dataframe tbody tr th {\n",
       "        vertical-align: top;\n",
       "    }\n",
       "\n",
       "    .dataframe thead th {\n",
       "        text-align: right;\n",
       "    }\n",
       "</style>\n",
       "<table border=\"1\" class=\"dataframe\">\n",
       "  <thead>\n",
       "    <tr style=\"text-align: right;\">\n",
       "      <th></th>\n",
       "      <th>beer_servings</th>\n",
       "      <th>spirit_servings</th>\n",
       "      <th>wine_servings</th>\n",
       "      <th>total_litres_of_pure_alcohol</th>\n",
       "      <th>Combine_Servings</th>\n",
       "    </tr>\n",
       "  </thead>\n",
       "  <tbody>\n",
       "    <tr>\n",
       "      <th>0</th>\n",
       "      <td>0</td>\n",
       "      <td>0</td>\n",
       "      <td>0</td>\n",
       "      <td>0.0</td>\n",
       "      <td>0</td>\n",
       "    </tr>\n",
       "    <tr>\n",
       "      <th>1</th>\n",
       "      <td>89</td>\n",
       "      <td>132</td>\n",
       "      <td>54</td>\n",
       "      <td>4.9</td>\n",
       "      <td>275</td>\n",
       "    </tr>\n",
       "    <tr>\n",
       "      <th>2</th>\n",
       "      <td>25</td>\n",
       "      <td>0</td>\n",
       "      <td>14</td>\n",
       "      <td>0.7</td>\n",
       "      <td>39</td>\n",
       "    </tr>\n",
       "    <tr>\n",
       "      <th>3</th>\n",
       "      <td>245</td>\n",
       "      <td>138</td>\n",
       "      <td>312</td>\n",
       "      <td>12.4</td>\n",
       "      <td>695</td>\n",
       "    </tr>\n",
       "    <tr>\n",
       "      <th>4</th>\n",
       "      <td>217</td>\n",
       "      <td>57</td>\n",
       "      <td>45</td>\n",
       "      <td>5.9</td>\n",
       "      <td>319</td>\n",
       "    </tr>\n",
       "  </tbody>\n",
       "</table>\n",
       "</div>"
      ],
      "text/plain": [
       "   beer_servings  spirit_servings  wine_servings  \\\n",
       "0              0                0              0   \n",
       "1             89              132             54   \n",
       "2             25                0             14   \n",
       "3            245              138            312   \n",
       "4            217               57             45   \n",
       "\n",
       "   total_litres_of_pure_alcohol  Combine_Servings  \n",
       "0                           0.0                 0  \n",
       "1                           4.9               275  \n",
       "2                           0.7                39  \n",
       "3                          12.4               695  \n",
       "4                           5.9               319  "
      ]
     },
     "execution_count": 112,
     "metadata": {},
     "output_type": "execute_result"
    }
   ],
   "source": [
    "import pandas as pd\n",
    "\n",
    "drink_Data.head()\n",
    "\n",
    "new_drink_Data = drink_Data[['beer_servings', 'spirit_servings', 'wine_servings', 'total_litres_of_pure_alcohol']]\n",
    "\n",
    "new_drink_Data['Combine_Servings'] = new_drink_Data['beer_servings'] + new_drink_Data['spirit_servings'] + new_drink_Data['wine_servings']\n",
    "\n",
    "new_drink_Data.head()"
   ]
  },
  {
   "cell_type": "markdown",
   "metadata": {},
   "source": [
    "### Preparing our train/test\n",
    "Here, we create an x and y varaible that looks at the independent variable, Combine_Servings, and the dependent variable, Total_Litres_of_Pure_Alcohol. We then use the train_test_split method to split of our data into 2 different types, one for training and one for testing. We made the test size take 25% of the data and stored it to a random seed on 1."
   ]
  },
  {
   "cell_type": "code",
   "execution_count": 113,
   "metadata": {},
   "outputs": [],
   "source": [
    "x = new_drink_Data.iloc[:, 4].values  #independent variable arrays, Combine_Servings\n",
    "y = new_drink_Data.iloc[:, 3].values  #dependent variable arrays, Total_Litres_Of_Pure_Alcohol"
   ]
  },
  {
   "cell_type": "code",
   "execution_count": 114,
   "metadata": {},
   "outputs": [],
   "source": [
    "# Split\n",
    "from sklearn.model_selection import train_test_split\n",
    "x_train, x_test, y_train, y_test = train_test_split(x, y, test_size=1/4, random_state=1)"
   ]
  },
  {
   "cell_type": "markdown",
   "metadata": {},
   "source": [
    "The code snippet below is to reshape the training and testing of the independent variable into a 2-dimensional arrays for plotting purposes"
   ]
  },
  {
   "cell_type": "code",
   "execution_count": 115,
   "metadata": {},
   "outputs": [
    {
     "data": {
      "text/plain": [
       "array([[274],\n",
       "       [571],\n",
       "       [385],\n",
       "       [275],\n",
       "       [  6],\n",
       "       [583],\n",
       "       [ 86],\n",
       "       [328],\n",
       "       [  6],\n",
       "       [643],\n",
       "       [404],\n",
       "       [ 51],\n",
       "       [ 55],\n",
       "       [111],\n",
       "       [123],\n",
       "       [219],\n",
       "       [106],\n",
       "       [ 28],\n",
       "       [553],\n",
       "       [  0],\n",
       "       [112],\n",
       "       [  0],\n",
       "       [  6],\n",
       "       [234],\n",
       "       [431],\n",
       "       [369],\n",
       "       [ 57],\n",
       "       [  0],\n",
       "       [ 49],\n",
       "       [ 57],\n",
       "       [665],\n",
       "       [ 56],\n",
       "       [279],\n",
       "       [605],\n",
       "       [488],\n",
       "       [  0],\n",
       "       [559],\n",
       "       [  0],\n",
       "       [  6],\n",
       "       [640],\n",
       "       [ 56],\n",
       "       [634],\n",
       "       [257],\n",
       "       [134],\n",
       "       [156],\n",
       "       [ 39],\n",
       "       [ 11],\n",
       "       [295],\n",
       "       [134],\n",
       "       [439],\n",
       "       [ 17],\n",
       "       [  0],\n",
       "       [233],\n",
       "       [123],\n",
       "       [638],\n",
       "       [325],\n",
       "       [380],\n",
       "       [ 82],\n",
       "       [529],\n",
       "       [  0],\n",
       "       [504],\n",
       "       [169],\n",
       "       [185],\n",
       "       [ 83],\n",
       "       [ 17],\n",
       "       [382],\n",
       "       [600],\n",
       "       [122],\n",
       "       [370],\n",
       "       [ 72],\n",
       "       [ 17],\n",
       "       [462],\n",
       "       [382],\n",
       "       [  5],\n",
       "       [364],\n",
       "       [ 17],\n",
       "       [ 86],\n",
       "       [ 88],\n",
       "       [ 45],\n",
       "       [395],\n",
       "       [406],\n",
       "       [369],\n",
       "       [545],\n",
       "       [ 94],\n",
       "       [  7],\n",
       "       [352],\n",
       "       [614],\n",
       "       [  0],\n",
       "       [540],\n",
       "       [301],\n",
       "       [557],\n",
       "       [247],\n",
       "       [ 74],\n",
       "       [311],\n",
       "       [ 12],\n",
       "       [239],\n",
       "       [ 39],\n",
       "       [372],\n",
       "       [235],\n",
       "       [ 34],\n",
       "       [695],\n",
       "       [313],\n",
       "       [ 62],\n",
       "       [  5],\n",
       "       [ 84],\n",
       "       [491],\n",
       "       [123],\n",
       "       [457],\n",
       "       [ 70],\n",
       "       [358],\n",
       "       [545],\n",
       "       [493],\n",
       "       [  0],\n",
       "       [275],\n",
       "       [477],\n",
       "       [243],\n",
       "       [648],\n",
       "       [  9],\n",
       "       [211],\n",
       "       [114],\n",
       "       [646],\n",
       "       [ 28],\n",
       "       [173],\n",
       "       [665],\n",
       "       [364],\n",
       "       [ 45],\n",
       "       [ 68],\n",
       "       [597],\n",
       "       [353],\n",
       "       [147],\n",
       "       [ 20],\n",
       "       [216],\n",
       "       [ 56],\n",
       "       [577],\n",
       "       [258],\n",
       "       [ 80],\n",
       "       [392],\n",
       "       [557],\n",
       "       [  0],\n",
       "       [344],\n",
       "       [ 50],\n",
       "       [396],\n",
       "       [586],\n",
       "       [238]], dtype=int64)"
      ]
     },
     "execution_count": 115,
     "metadata": {},
     "output_type": "execute_result"
    }
   ],
   "source": [
    "# Making the training and testing 2 Dimensional arrays\n",
    "x_train = np.array(x_train).reshape(-1, 1)\n",
    "x_train"
   ]
  },
  {
   "cell_type": "code",
   "execution_count": 116,
   "metadata": {},
   "outputs": [
    {
     "data": {
      "text/plain": [
       "array([[459],\n",
       "       [124],\n",
       "       [ 21],\n",
       "       [426],\n",
       "       [ 43],\n",
       "       [349],\n",
       "       [197],\n",
       "       [596],\n",
       "       [130],\n",
       "       [ 54],\n",
       "       [ 62],\n",
       "       [ 39],\n",
       "       [216],\n",
       "       [591],\n",
       "       [147],\n",
       "       [463],\n",
       "       [ 45],\n",
       "       [349],\n",
       "       [152],\n",
       "       [ 80],\n",
       "       [ 36],\n",
       "       [319],\n",
       "       [  0],\n",
       "       [436],\n",
       "       [ 18],\n",
       "       [  0],\n",
       "       [ 30],\n",
       "       [141],\n",
       "       [ 11],\n",
       "       [407],\n",
       "       [ 44],\n",
       "       [ 11],\n",
       "       [ 23],\n",
       "       [188],\n",
       "       [ 50],\n",
       "       [352],\n",
       "       [328],\n",
       "       [ 23],\n",
       "       [398],\n",
       "       [  0],\n",
       "       [273],\n",
       "       [360],\n",
       "       [165],\n",
       "       [541],\n",
       "       [ 20],\n",
       "       [  6],\n",
       "       [120],\n",
       "       [113],\n",
       "       [565]], dtype=int64)"
      ]
     },
     "execution_count": 116,
     "metadata": {},
     "output_type": "execute_result"
    }
   ],
   "source": [
    "x_test = np.array(x_test).reshape(-1, 1)\n",
    "x_test"
   ]
  },
  {
   "cell_type": "markdown",
   "metadata": {},
   "source": [
    "### Fitting\n",
    "Here, we fit the training variables and display the intercept and slope of the line once fitted."
   ]
  },
  {
   "cell_type": "code",
   "execution_count": 117,
   "metadata": {},
   "outputs": [
    {
     "data": {
      "text/html": [
       "<style>#sk-container-id-9 {color: black;}#sk-container-id-9 pre{padding: 0;}#sk-container-id-9 div.sk-toggleable {background-color: white;}#sk-container-id-9 label.sk-toggleable__label {cursor: pointer;display: block;width: 100%;margin-bottom: 0;padding: 0.3em;box-sizing: border-box;text-align: center;}#sk-container-id-9 label.sk-toggleable__label-arrow:before {content: \"▸\";float: left;margin-right: 0.25em;color: #696969;}#sk-container-id-9 label.sk-toggleable__label-arrow:hover:before {color: black;}#sk-container-id-9 div.sk-estimator:hover label.sk-toggleable__label-arrow:before {color: black;}#sk-container-id-9 div.sk-toggleable__content {max-height: 0;max-width: 0;overflow: hidden;text-align: left;background-color: #f0f8ff;}#sk-container-id-9 div.sk-toggleable__content pre {margin: 0.2em;color: black;border-radius: 0.25em;background-color: #f0f8ff;}#sk-container-id-9 input.sk-toggleable__control:checked~div.sk-toggleable__content {max-height: 200px;max-width: 100%;overflow: auto;}#sk-container-id-9 input.sk-toggleable__control:checked~label.sk-toggleable__label-arrow:before {content: \"▾\";}#sk-container-id-9 div.sk-estimator input.sk-toggleable__control:checked~label.sk-toggleable__label {background-color: #d4ebff;}#sk-container-id-9 div.sk-label input.sk-toggleable__control:checked~label.sk-toggleable__label {background-color: #d4ebff;}#sk-container-id-9 input.sk-hidden--visually {border: 0;clip: rect(1px 1px 1px 1px);clip: rect(1px, 1px, 1px, 1px);height: 1px;margin: -1px;overflow: hidden;padding: 0;position: absolute;width: 1px;}#sk-container-id-9 div.sk-estimator {font-family: monospace;background-color: #f0f8ff;border: 1px dotted black;border-radius: 0.25em;box-sizing: border-box;margin-bottom: 0.5em;}#sk-container-id-9 div.sk-estimator:hover {background-color: #d4ebff;}#sk-container-id-9 div.sk-parallel-item::after {content: \"\";width: 100%;border-bottom: 1px solid gray;flex-grow: 1;}#sk-container-id-9 div.sk-label:hover label.sk-toggleable__label {background-color: #d4ebff;}#sk-container-id-9 div.sk-serial::before {content: \"\";position: absolute;border-left: 1px solid gray;box-sizing: border-box;top: 0;bottom: 0;left: 50%;z-index: 0;}#sk-container-id-9 div.sk-serial {display: flex;flex-direction: column;align-items: center;background-color: white;padding-right: 0.2em;padding-left: 0.2em;position: relative;}#sk-container-id-9 div.sk-item {position: relative;z-index: 1;}#sk-container-id-9 div.sk-parallel {display: flex;align-items: stretch;justify-content: center;background-color: white;position: relative;}#sk-container-id-9 div.sk-item::before, #sk-container-id-9 div.sk-parallel-item::before {content: \"\";position: absolute;border-left: 1px solid gray;box-sizing: border-box;top: 0;bottom: 0;left: 50%;z-index: -1;}#sk-container-id-9 div.sk-parallel-item {display: flex;flex-direction: column;z-index: 1;position: relative;background-color: white;}#sk-container-id-9 div.sk-parallel-item:first-child::after {align-self: flex-end;width: 50%;}#sk-container-id-9 div.sk-parallel-item:last-child::after {align-self: flex-start;width: 50%;}#sk-container-id-9 div.sk-parallel-item:only-child::after {width: 0;}#sk-container-id-9 div.sk-dashed-wrapped {border: 1px dashed gray;margin: 0 0.4em 0.5em 0.4em;box-sizing: border-box;padding-bottom: 0.4em;background-color: white;}#sk-container-id-9 div.sk-label label {font-family: monospace;font-weight: bold;display: inline-block;line-height: 1.2em;}#sk-container-id-9 div.sk-label-container {text-align: center;}#sk-container-id-9 div.sk-container {/* jupyter's `normalize.less` sets `[hidden] { display: none; }` but bootstrap.min.css set `[hidden] { display: none !important; }` so we also need the `!important` here to be able to override the default hidden behavior on the sphinx rendered scikit-learn.org. See: https://github.com/scikit-learn/scikit-learn/issues/21755 */display: inline-block !important;position: relative;}#sk-container-id-9 div.sk-text-repr-fallback {display: none;}</style><div id=\"sk-container-id-9\" class=\"sk-top-container\"><div class=\"sk-text-repr-fallback\"><pre>LinearRegression()</pre><b>In a Jupyter environment, please rerun this cell to show the HTML representation or trust the notebook. <br />On GitHub, the HTML representation is unable to render, please try loading this page with nbviewer.org.</b></div><div class=\"sk-container\" hidden><div class=\"sk-item\"><div class=\"sk-estimator sk-toggleable\"><input class=\"sk-toggleable__control sk-hidden--visually\" id=\"sk-estimator-id-9\" type=\"checkbox\" checked><label for=\"sk-estimator-id-9\" class=\"sk-toggleable__label sk-toggleable__label-arrow\">LinearRegression</label><div class=\"sk-toggleable__content\"><pre>LinearRegression()</pre></div></div></div></div></div>"
      ],
      "text/plain": [
       "LinearRegression()"
      ]
     },
     "execution_count": 117,
     "metadata": {},
     "output_type": "execute_result"
    }
   ],
   "source": [
    "# Fitting\n",
    "from sklearn import linear_model\n",
    "from sklearn.metrics import mean_squared_error, r2_score\n",
    "regressor = linear_model.LinearRegression()\n",
    "regressor.fit(x_train, y_train)"
   ]
  },
  {
   "cell_type": "code",
   "execution_count": 118,
   "metadata": {},
   "outputs": [
    {
     "data": {
      "text/plain": [
       "0.5227534772978712"
      ]
     },
     "execution_count": 118,
     "metadata": {},
     "output_type": "execute_result"
    }
   ],
   "source": [
    "intercept = regressor.intercept_\n",
    "intercept"
   ]
  },
  {
   "cell_type": "code",
   "execution_count": 119,
   "metadata": {},
   "outputs": [
    {
     "data": {
      "text/plain": [
       "array([0.01733409])"
      ]
     },
     "execution_count": 119,
     "metadata": {},
     "output_type": "execute_result"
    }
   ],
   "source": [
    "slope = regressor.coef_\n",
    "slope"
   ]
  },
  {
   "cell_type": "markdown",
   "metadata": {},
   "source": [
    "### Predicting\n",
    "In this section, we use the predict method to predict the outcome of x_train and x_test and store it into a variable used for plotting to see how close our model is to the actual data"
   ]
  },
  {
   "cell_type": "code",
   "execution_count": 120,
   "metadata": {},
   "outputs": [
    {
     "data": {
      "text/plain": [
       "array([ 5.27229528, 10.42052124,  7.19637973,  5.28962937,  0.62675804,\n",
       "       10.62853037,  2.01348557,  6.20833636,  0.62675804, 11.66857602,\n",
       "        7.52572752,  1.40679228,  1.47612866,  2.44683793,  2.65484706,\n",
       "        4.3189201 ,  2.36016746,  1.00810811, 10.10850755,  0.52275348,\n",
       "        2.46417202,  0.52275348,  0.62675804,  4.57893151,  7.99374806,\n",
       "        6.91903422,  1.51079684,  0.52275348,  1.37212409,  1.51079684,\n",
       "       12.04992609,  1.49346275,  5.35896575, 11.00988044,  8.98179143,\n",
       "        0.52275348, 10.21251211,  0.52275348,  0.62675804, 11.61657374,\n",
       "        1.49346275, 11.51256917,  4.97761568,  2.84552209,  3.22687217,\n",
       "        1.19878315,  0.71342851,  5.63631125,  2.84552209,  8.13242081,\n",
       "        0.81743308,  0.52275348,  4.56159742,  2.65484706, 11.58190555,\n",
       "        6.15633408,  7.10970926,  1.9441492 ,  9.69248929,  0.52275348,\n",
       "        9.25913693,  3.45221539,  3.7295609 ,  1.96148329,  0.81743308,\n",
       "        7.14437745, 10.92320997,  2.63751296,  6.93636832,  1.77080826,\n",
       "        0.81743308,  8.53110498,  7.14437745,  0.60942395,  6.83236375,\n",
       "        0.81743308,  2.01348557,  2.04815376,  1.30278771,  7.36972067,\n",
       "        7.56039571,  6.91903422,  9.96983479,  2.15215833,  0.64409214,\n",
       "        6.62435462, 11.16588729,  0.52275348,  9.88316432,  5.74031582,\n",
       "       10.17784392,  4.80427473,  1.80547645,  5.91365676,  0.73076261,\n",
       "        4.66560198,  1.19878315,  6.9710365 ,  4.5962656 ,  1.11211268,\n",
       "       12.56994892,  5.94832495,  1.59746732,  0.60942395,  1.97881739,\n",
       "        9.03379371,  2.65484706,  8.44443451,  1.73614007,  6.72835919,\n",
       "        9.96983479,  9.0684619 ,  0.52275348,  5.28962937,  8.79111639,\n",
       "        4.73493836, 11.75524649,  0.67876032,  4.18024734,  2.49884021,\n",
       "       11.7205783 ,  1.00810811,  3.52155177, 12.04992609,  6.83236375,\n",
       "        1.30278771,  1.70147188, 10.87120769,  6.64168872,  3.07086532,\n",
       "        0.86943536,  4.26691782,  1.49346275, 10.52452581,  4.99494977,\n",
       "        1.90948101,  7.31771839, 10.17784392,  0.52275348,  6.48568187,\n",
       "        1.38945819,  7.38705476, 10.68053265,  4.64826789])"
      ]
     },
     "execution_count": 120,
     "metadata": {},
     "output_type": "execute_result"
    }
   ],
   "source": [
    "# Predicting; y_pred are the predicted results of the Combine_Servings\n",
    "y_pred_train = regressor.predict(x_train)\n",
    "y_pred_train"
   ]
  },
  {
   "cell_type": "markdown",
   "metadata": {},
   "source": [
    "Plotting the training data first and including the predicted train set on y (red line)"
   ]
  },
  {
   "cell_type": "code",
   "execution_count": 121,
   "metadata": {},
   "outputs": [
    {
     "data": {
      "image/png": "[encoded data removed]",
      "text/plain": [
       "<Figure size 640x480 with 1 Axes>"
      ]
     },
     "metadata": {},
     "output_type": "display_data"
    }
   ],
   "source": [
    "import matplotlib.pyplot as plt\n",
    "plt.scatter(x_train, y_train) # plotting the observation line\n",
    "plt.plot(x_train, y_pred_train, color='red') # plotting the observation line but using the predicted dependent variable\n",
    "\n",
    "plt.title(\"Combine_Servings vs Total_Litres_of_Pure_Alcohol along with predicted model using Train\") # stating the title of the graph\n",
    " \n",
    "plt.xlabel(\"Combine_Servings\") # adding the name of x-axis\n",
    "plt.ylabel(\"Total_Litres_Of_Pure_Alcohol\") # adding the name of y-axis\n",
    "plt.show() # specifies end of graph"
   ]
  },
  {
   "cell_type": "markdown",
   "metadata": {},
   "source": [
    "Predicting using the testing dataset now"
   ]
  },
  {
   "cell_type": "code",
   "execution_count": 122,
   "metadata": {},
   "outputs": [
    {
     "data": {
      "text/plain": [
       "array([ 8.4791027 ,  2.67218115,  0.88676945,  7.90707759,  1.26811953,\n",
       "        6.57235234,  3.93757003, 10.8538736 ,  2.77618572,  1.45879456,\n",
       "        1.59746732,  1.19878315,  4.26691782, 10.76720313,  3.07086532,\n",
       "        8.54843907,  1.30278771,  6.57235234,  3.15753579,  1.90948101,\n",
       "        1.14678087,  6.05232951,  0.52275348,  8.08041853,  0.83476717,\n",
       "        0.52275348,  1.0427763 ,  2.96686075,  0.71342851,  7.5777298 ,\n",
       "        1.28545362,  0.71342851,  0.92143764,  3.78156318,  1.38945819,\n",
       "        6.62435462,  6.20833636,  0.92143764,  7.42172295,  0.52275348,\n",
       "        5.25496118,  6.76302737,  3.38287901,  9.90049842,  0.86943536,\n",
       "        0.62675804,  2.60284478,  2.48150612, 10.31651668])"
      ]
     },
     "execution_count": 122,
     "metadata": {},
     "output_type": "execute_result"
    }
   ],
   "source": [
    "y_pred_test = regressor.predict(x_test)\n",
    "y_pred_test"
   ]
  },
  {
   "cell_type": "markdown",
   "metadata": {},
   "source": [
    "Plotting the testing data and observing how closely it resembles our train data."
   ]
  },
  {
   "cell_type": "code",
   "execution_count": 123,
   "metadata": {},
   "outputs": [
    {
     "data": {
      "image/png": "[encoded data removed]",
      "text/plain": [
       "<Figure size 640x480 with 1 Axes>"
      ]
     },
     "metadata": {},
     "output_type": "display_data"
    }
   ],
   "source": [
    "#plot for the TRAIN\n",
    "import matplotlib.pyplot as plt\n",
    "plt.scatter(x_test, y_test) # plotting the observation line\n",
    "plt.plot(x_test, y_pred_test, color='red') # plotting the observation line\n",
    "\n",
    "plt.title(\"Combine_Servings vs Total_Litres_of_Pure_Alcohol along with predicted model using Testing\") # stating the title of the graph\n",
    " \n",
    "plt.xlabel(\"Combine_Servings\") # adding the name of x-axis\n",
    "plt.ylabel(\"Total_Litres_Of_Pure_Alcohol\") # adding the name of y-axis\n",
    "plt.show() # specifies end of graph"
   ]
  },
  {
   "cell_type": "markdown",
   "metadata": {},
   "source": [
    "### Finding the mean squarred error and the R-squared on both the testing and training models.\n",
    "Mean Squared Error: how much the residuals vary around the fitted lines <br>\n",
    "R-Squared: Correlation between x and y; ranges from 0 to 1; higher the number the better the model"
   ]
  },
  {
   "cell_type": "code",
   "execution_count": 124,
   "metadata": {},
   "outputs": [
    {
     "name": "stdout",
     "output_type": "stream",
     "text": [
      "Root mean squared error on testing = 1.8266\n",
      "R-squared on testing= 0.6981\n",
      "Root mean squared error on training = 1.1405\n",
      "R-squared on training = 0.9140\n"
     ]
    }
   ],
   "source": [
    "# Model evaluation\n",
    "print(\"Root mean squared error on testing = %.4f\" % np.sqrt(mean_squared_error(y_test, y_pred_test)))\n",
    "print('R-squared on testing= %.4f' % r2_score(y_test, y_pred_test))\n",
    "\n",
    "print(\"Root mean squared error on training = %.4f\" % np.sqrt(mean_squared_error(y_train, y_pred_train)))\n",
    "print('R-squared on training = %.4f' % r2_score(y_train, y_pred_train))"
   ]
  },
  {
   "cell_type": "markdown",
   "metadata": {},
   "source": [
    "## Multiple Linear Regression\n",
    "Using the same dataset, drinks.csv, we used all three servings columns, beer, spirit, and wine, as independent variables and have the dependent variable be the Total_litres_of_Pure_Alcohol. We then split the data into training and testing varaibles, saving only 25% for testing."
   ]
  },
  {
   "cell_type": "code",
   "execution_count": 125,
   "metadata": {},
   "outputs": [
    {
     "name": "stdout",
     "output_type": "stream",
     "text": [
      "x_train shape:  (144, 3)\n",
      "y_train shape:  (144,)\n",
      "x_test shape:  (49, 3)\n",
      "y_test shape:  (49,)\n"
     ]
    }
   ],
   "source": [
    "from sklearn.model_selection import train_test_split\n",
    "from sklearn import preprocessing\n",
    "\n",
    "path = \"./\"\n",
    "\n",
    "filename_read = os.path.join(path,\"drinks.csv\")\n",
    "drink_Data = pd.read_csv(filename_read, na_values=['NA','?'])\n",
    "\n",
    "x_train, x_test, y_train, y_test = train_test_split(\n",
    "  drink_Data[['beer_servings', 'spirit_servings', 'wine_servings']], \n",
    "  drink_Data['total_litres_of_pure_alcohol'], \n",
    "  test_size=0.25,\n",
    "  random_state=0)\n",
    "print(\"x_train shape: \", x_train.shape)\n",
    "print(\"y_train shape: \", y_train.shape)\n",
    "\n",
    "print(\"x_test shape: \", x_test.shape)\n",
    "print(\"y_test shape: \", y_test.shape)"
   ]
  },
  {
   "cell_type": "markdown",
   "metadata": {},
   "source": [
    "### Fitting the training models\n",
    "Here, we fit the training model and display the y-intercept and slope"
   ]
  },
  {
   "cell_type": "code",
   "execution_count": 126,
   "metadata": {},
   "outputs": [
    {
     "data": {
      "text/html": [
       "<style>#sk-container-id-10 {color: black;}#sk-container-id-10 pre{padding: 0;}#sk-container-id-10 div.sk-toggleable {background-color: white;}#sk-container-id-10 label.sk-toggleable__label {cursor: pointer;display: block;width: 100%;margin-bottom: 0;padding: 0.3em;box-sizing: border-box;text-align: center;}#sk-container-id-10 label.sk-toggleable__label-arrow:before {content: \"▸\";float: left;margin-right: 0.25em;color: #696969;}#sk-container-id-10 label.sk-toggleable__label-arrow:hover:before {color: black;}#sk-container-id-10 div.sk-estimator:hover label.sk-toggleable__label-arrow:before {color: black;}#sk-container-id-10 div.sk-toggleable__content {max-height: 0;max-width: 0;overflow: hidden;text-align: left;background-color: #f0f8ff;}#sk-container-id-10 div.sk-toggleable__content pre {margin: 0.2em;color: black;border-radius: 0.25em;background-color: #f0f8ff;}#sk-container-id-10 input.sk-toggleable__control:checked~div.sk-toggleable__content {max-height: 200px;max-width: 100%;overflow: auto;}#sk-container-id-10 input.sk-toggleable__control:checked~label.sk-toggleable__label-arrow:before {content: \"▾\";}#sk-container-id-10 div.sk-estimator input.sk-toggleable__control:checked~label.sk-toggleable__label {background-color: #d4ebff;}#sk-container-id-10 div.sk-label input.sk-toggleable__control:checked~label.sk-toggleable__label {background-color: #d4ebff;}#sk-container-id-10 input.sk-hidden--visually {border: 0;clip: rect(1px 1px 1px 1px);clip: rect(1px, 1px, 1px, 1px);height: 1px;margin: -1px;overflow: hidden;padding: 0;position: absolute;width: 1px;}#sk-container-id-10 div.sk-estimator {font-family: monospace;background-color: #f0f8ff;border: 1px dotted black;border-radius: 0.25em;box-sizing: border-box;margin-bottom: 0.5em;}#sk-container-id-10 div.sk-estimator:hover {background-color: #d4ebff;}#sk-container-id-10 div.sk-parallel-item::after {content: \"\";width: 100%;border-bottom: 1px solid gray;flex-grow: 1;}#sk-container-id-10 div.sk-label:hover label.sk-toggleable__label {background-color: #d4ebff;}#sk-container-id-10 div.sk-serial::before {content: \"\";position: absolute;border-left: 1px solid gray;box-sizing: border-box;top: 0;bottom: 0;left: 50%;z-index: 0;}#sk-container-id-10 div.sk-serial {display: flex;flex-direction: column;align-items: center;background-color: white;padding-right: 0.2em;padding-left: 0.2em;position: relative;}#sk-container-id-10 div.sk-item {position: relative;z-index: 1;}#sk-container-id-10 div.sk-parallel {display: flex;align-items: stretch;justify-content: center;background-color: white;position: relative;}#sk-container-id-10 div.sk-item::before, #sk-container-id-10 div.sk-parallel-item::before {content: \"\";position: absolute;border-left: 1px solid gray;box-sizing: border-box;top: 0;bottom: 0;left: 50%;z-index: -1;}#sk-container-id-10 div.sk-parallel-item {display: flex;flex-direction: column;z-index: 1;position: relative;background-color: white;}#sk-container-id-10 div.sk-parallel-item:first-child::after {align-self: flex-end;width: 50%;}#sk-container-id-10 div.sk-parallel-item:last-child::after {align-self: flex-start;width: 50%;}#sk-container-id-10 div.sk-parallel-item:only-child::after {width: 0;}#sk-container-id-10 div.sk-dashed-wrapped {border: 1px dashed gray;margin: 0 0.4em 0.5em 0.4em;box-sizing: border-box;padding-bottom: 0.4em;background-color: white;}#sk-container-id-10 div.sk-label label {font-family: monospace;font-weight: bold;display: inline-block;line-height: 1.2em;}#sk-container-id-10 div.sk-label-container {text-align: center;}#sk-container-id-10 div.sk-container {/* jupyter's `normalize.less` sets `[hidden] { display: none; }` but bootstrap.min.css set `[hidden] { display: none !important; }` so we also need the `!important` here to be able to override the default hidden behavior on the sphinx rendered scikit-learn.org. See: https://github.com/scikit-learn/scikit-learn/issues/21755 */display: inline-block !important;position: relative;}#sk-container-id-10 div.sk-text-repr-fallback {display: none;}</style><div id=\"sk-container-id-10\" class=\"sk-top-container\"><div class=\"sk-text-repr-fallback\"><pre>LinearRegression()</pre><b>In a Jupyter environment, please rerun this cell to show the HTML representation or trust the notebook. <br />On GitHub, the HTML representation is unable to render, please try loading this page with nbviewer.org.</b></div><div class=\"sk-container\" hidden><div class=\"sk-item\"><div class=\"sk-estimator sk-toggleable\"><input class=\"sk-toggleable__control sk-hidden--visually\" id=\"sk-estimator-id-10\" type=\"checkbox\" checked><label for=\"sk-estimator-id-10\" class=\"sk-toggleable__label sk-toggleable__label-arrow\">LinearRegression</label><div class=\"sk-toggleable__content\"><pre>LinearRegression()</pre></div></div></div></div></div>"
      ],
      "text/plain": [
       "LinearRegression()"
      ]
     },
     "execution_count": 126,
     "metadata": {},
     "output_type": "execute_result"
    }
   ],
   "source": [
    "# Create linear regression object\n",
    "regr = linear_model.LinearRegression()\n",
    "\n",
    "# Fit regression model to the training set\n",
    "regr.fit(x_train, y_train)"
   ]
  },
  {
   "cell_type": "code",
   "execution_count": 127,
   "metadata": {},
   "outputs": [
    {
     "data": {
      "text/plain": [
       "0.6137880966226286"
      ]
     },
     "execution_count": 127,
     "metadata": {},
     "output_type": "execute_result"
    }
   ],
   "source": [
    "intercept = regr.intercept_\n",
    "intercept"
   ]
  },
  {
   "cell_type": "code",
   "execution_count": 128,
   "metadata": {},
   "outputs": [
    {
     "data": {
      "text/plain": [
       "array([0.01803339, 0.0163801 , 0.01632606])"
      ]
     },
     "execution_count": 128,
     "metadata": {},
     "output_type": "execute_result"
    }
   ],
   "source": [
    "slope = regr.coef_\n",
    "slope"
   ]
  },
  {
   "cell_type": "markdown",
   "metadata": {},
   "source": [
    "Predicting the training data first"
   ]
  },
  {
   "cell_type": "code",
   "execution_count": 129,
   "metadata": {},
   "outputs": [
    {
     "data": {
      "text/plain": [
       "array([ 7.99262056,  0.7743813 ,  9.11875129,  2.00813573,  3.49599407,\n",
       "        1.02855614,  0.97099653,  1.48574322,  2.71440351,  1.82016526,\n",
       "       10.77069164,  6.64904208,  5.2288066 ,  6.6414857 ,  5.98246162,\n",
       "       10.01637971,  6.70386638,  3.73996358,  3.54747923,  1.9091526 ,\n",
       "        0.89555637,  6.61405857,  2.20072668, 10.23148858,  2.84473247,\n",
       "        0.6137881 ,  2.66458098,  6.10121268,  9.43986262,  1.29318773,\n",
       "        2.59198889,  0.6137881 ,  3.18271273,  4.61659755,  1.82760421,\n",
       "        0.6137881 ,  5.98805994,  2.84962142,  2.12807127,  7.39436826,\n",
       "        0.72198845,  8.30589608,  4.68716223,  6.85266449,  6.66071046,\n",
       "        0.6137881 ,  2.38146922,  0.95456239,  2.56754921,  5.62211709,\n",
       "       10.74426661,  4.90541894,  2.7324369 ,  1.65399154, 10.51870026,\n",
       "        5.57235636,  0.6137881 ,  6.57738386,  7.66830072,  8.94542321,\n",
       "        7.53945195,  4.42755727,  9.9700014 ,  0.72033516,  0.73666122,\n",
       "        4.79630329,  1.39366204,  7.08818724, 12.38615314,  0.72033516,\n",
       "        1.56738279,  3.96957054,  8.11179421, 11.83404645, 11.37564413,\n",
       "        3.82833048,  2.60585272,  8.42565485,  2.51741927,  0.69568859,\n",
       "        2.64184347,  0.90675114,  2.85964927, 10.15927193,  6.52938848,\n",
       "        0.80223566,  0.9137426 ,  7.79734346,  8.79424482, 11.62687383,\n",
       "        5.26254031,  9.68356948, 10.82418124, 10.33335583,  6.89790053,\n",
       "        7.57950072,  1.53847546,  7.35451025,  0.69728785,  6.51689427,\n",
       "        0.80383491, 10.84152495,  0.6137881 ,  0.91699515,  1.41168614,\n",
       "        1.09172999,  9.93644068,  3.3463812 , 10.13546579,  1.28893039,\n",
       "        4.37163141,  8.57278033,  1.4219842 ,  5.9520025 ,  0.6137881 ,\n",
       "        4.38909918, 11.47258374,  3.02705323,  0.6137881 ,  1.83782965,\n",
       "        4.53174998,  1.46691777,  7.25400971,  2.64341996, 10.44193636,\n",
       "        7.37431655, 10.88489138,  9.81057497,  6.83594443,  9.06354752,\n",
       "        2.14764059,  1.02359626, 10.6945296 ,  2.05273919,  0.80874075,\n",
       "        7.07534597,  5.31401369,  4.94869162,  9.99188925,  0.6137881 ,\n",
       "        8.4058811 ,  7.45981023,  1.25632303,  1.60594554])"
      ]
     },
     "execution_count": 129,
     "metadata": {},
     "output_type": "execute_result"
    }
   ],
   "source": [
    "# Apply model to the test set\n",
    "y_pred_train = regr.predict(x_train)\n",
    "y_pred_train"
   ]
  },
  {
   "cell_type": "markdown",
   "metadata": {},
   "source": [
    "Plotting the training and predicted variables of the dependent values and showing the root mean squarred error and R-squarred score"
   ]
  },
  {
   "cell_type": "code",
   "execution_count": 130,
   "metadata": {},
   "outputs": [
    {
     "name": "stdout",
     "output_type": "stream",
     "text": [
      "Root mean squared error = 1.2451\n",
      "R-squared = 0.8905\n"
     ]
    },
    {
     "data": {
      "image/png": "[encoded data removed]",
      "text/plain": [
       "<Figure size 640x480 with 1 Axes>"
      ]
     },
     "metadata": {},
     "output_type": "display_data"
    }
   ],
   "source": [
    "# Model evaluation\n",
    "print(\"Root mean squared error = %.4f\" % np.sqrt(mean_squared_error(y_train, y_pred_train)))\n",
    "print('R-squared = %.4f' % r2_score(y_train, y_pred_train))\n",
    "\n",
    "plt.scatter(y_train, y_pred_train)\n",
    "plt.xlabel(\"Actual Total_Litres_of_Pure_Alcohol\")\n",
    "plt.ylabel(\"Predicted Total_Litres_of_Pure_Alcohol\")\n",
    "plt.show()"
   ]
  },
  {
   "cell_type": "markdown",
   "metadata": {},
   "source": [
    "Using the testing data now to apply multiple linear regression"
   ]
  },
  {
   "cell_type": "code",
   "execution_count": 131,
   "metadata": {},
   "outputs": [],
   "source": [
    "y_pred_test = regr.predict(x_test)"
   ]
  },
  {
   "cell_type": "code",
   "execution_count": 132,
   "metadata": {},
   "outputs": [
    {
     "name": "stdout",
     "output_type": "stream",
     "text": [
      "Root mean squared error = 1.5794\n",
      "R-squared = 0.8184\n"
     ]
    },
    {
     "data": {
      "text/plain": [
       "Text(0, 0.5, 'Predicted Litres_of_Pure_Alcohol')"
      ]
     },
     "execution_count": 132,
     "metadata": {},
     "output_type": "execute_result"
    },
    {
     "data": {
      "image/png": "[encoded data removed]",
      "text/plain": [
       "<Figure size 640x480 with 1 Axes>"
      ]
     },
     "metadata": {},
     "output_type": "display_data"
    }
   ],
   "source": [
    "# Model evaluation\n",
    "print(\"Root mean squared error = %.4f\" % np.sqrt(mean_squared_error(y_test, y_pred_test)))\n",
    "print('R-squared = %.4f' % r2_score(y_test, y_pred_test))\n",
    "\n",
    "plt.scatter(y_test, y_pred_test)\n",
    "plt.xlabel(\"Actual Litres_of_Pure_Alcohol\")\n",
    "plt.ylabel(\"Predicted Litres_of_Pure_Alcohol\")"
   ]
  }
 ],
 "metadata": {
  "kernelspec": {
   "display_name": "base",
   "language": "python",
   "name": "python3"
  },
  "language_info": {
   "codemirror_mode": {
    "name": "ipython",
    "version": 3
   },
   "file_extension": ".py",
   "mimetype": "text/x-python",
   "name": "python",
   "nbconvert_exporter": "python",
   "pygments_lexer": "ipython3",
   "version": "3.11.4"
  }
 },
 "nbformat": 4,
 "nbformat_minor": 2
}
